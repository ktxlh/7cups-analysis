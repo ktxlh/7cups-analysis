{
 "cells": [
  {
   "cell_type": "code",
   "execution_count": null,
   "metadata": {},
   "outputs": [],
   "source": [
    "import os\n",
    "import pandas as pd\n",
    "from datetime import datetime\n",
    "\n",
    "L_TOKEN, C_TOKEN = \"<|listener|>\", \"<|client|>\"\n",
    "HIDE, SHOW = -1, -2\n",
    "\n",
    "log_path = \"/Users/shanglinghsu/backup_logs/flask_outputs_20221202\"\n",
    "DATETIME_FORMAT = \"%Y-%m-%d_%H-%M-%S\"\n",
    "DATE_MICROSEC_FORMAT = \"%Y-%m-%d_%H-%M-%S.%f\"\n",
    "DIALOG_COLUMNS = ['user_id', 'is_listener', 'utterance', 'time']\n",
    "PRED_COLUMNS = ['code', 'score', 'last_utterance_index', 'pred_index', 'text', 'time']\n",
    "CLICK_COLUMNS = ['last_utterance_index', 'pred_index', 'time']\n",
    "\n",
    "EXP_START = datetime(year=2022, month=11, day=13, hour=13, minute=28, second=51)  # 2022-11-13 13:28:50\n",
    "\n",
    "def f_optional_strptime(dtstr):\n",
    "    format = DATE_MICROSEC_FORMAT if \".\" in dtstr else DATETIME_FORMAT\n",
    "    return datetime.strptime(dtstr, format)\n",
    "\n",
    "def parse_df_time(df):\n",
    "    df[\"time\"] = df[\"time\"].apply(f_optional_strptime)"
   ]
  },
  {
   "cell_type": "code",
   "execution_count": null,
   "metadata": {},
   "outputs": [],
   "source": [
    "data = {\"chat_id\":[], \"datetime\":[], \"filename_prefix\": [], \"num_utterances\": []}\n",
    "filenames = os.listdir(log_path)\n",
    "unique_datetime = set()\n",
    "for x in filenames:\n",
    "    x_split = x.split('_')\n",
    "    datetime = f_optional_strptime('_'.join(x_split[:2]))\n",
    "    if datetime in unique_datetime or datetime < EXP_START: continue\n",
    "    unique_datetime.add(datetime)\n",
    "\n",
    "    chat_id = x_split[2]\n",
    "    filename_prefix = \"_\".join(x_split[:3])\n",
    "\n",
    "    fname = \"{}_dialog.csv\".format(filename_prefix)\n",
    "    dialog_df = pd.read_csv(os.path.join(log_path, fname), header=0)\n",
    "    data[\"num_utterances\"].append(len(dialog_df[\"utterance\"]))\n",
    "\n",
    "    data[\"chat_id\"].append(chat_id)\n",
    "    data[\"datetime\"].append(datetime)\n",
    "    data[\"filename_prefix\"].append(filename_prefix)\n",
    "\n",
    "sessions = pd.DataFrame(data=data)\n",
    "sessions.sort_values(\"datetime\", inplace=True)\n",
    "sessions.reset_index(drop=True, inplace=True)\n",
    "\n",
    "print(\"Number of chats:\", len(sessions))"
   ]
  },
  {
   "cell_type": "code",
   "execution_count": null,
   "metadata": {},
   "outputs": [],
   "source": [
    "sessions[\"num_utterances\"].describe()[[\"min\", \"max\", \"mean\", \"std\"]]"
   ]
  },
  {
   "cell_type": "code",
   "execution_count": null,
   "metadata": {},
   "outputs": [],
   "source": [
    "def load_logs(path_prefix):\n",
    "    dialog = pd.read_csv(path_prefix + \"_dialog.csv\", header=0)[DIALOG_COLUMNS]\n",
    "    click = pd.read_csv(path_prefix + \"_click.csv\", header=0) #[CLICK_COLUMNS]\n",
    "    pred = pd.read_csv(path_prefix + \"_pred.csv\", header=0) #[PRED_COLUMNS]\n",
    "\n",
    "    for df in [dialog, click, pred]:\n",
    "        if \"time\" in df.columns:\n",
    "            parse_df_time(df)\n",
    "    return dialog, click, pred\n",
    "\n",
    "def compute_response_times(dialog, mask):\n",
    "    return (dialog.time - dialog.time.shift(1))[mask]\n",
    "\n",
    "def compute_dialog_stats(dialog):\n",
    "    lrt = compute_response_times(dialog, dialog.is_listener == True)\n",
    "    mrt = compute_response_times(dialog, dialog.is_listener == False)\n",
    "    return {\n",
    "        \"span\": (dialog.time.max() - dialog.time.min()).total_seconds(),\n",
    "        \"# utterances\": len(dialog),\n",
    "        \"# L utterances\": sum(dialog.is_listener == True),\n",
    "        \"# M utterances\": sum(dialog.is_listener == False),\n",
    "        \"avg_l_response_time\": lrt.mean().total_seconds(),\n",
    "        \"med_l_response_time\": lrt.median().total_seconds(),\n",
    "        \"avg_m_response_time\": mrt.mean().total_seconds(),\n",
    "        \"med_m_response_time\": mrt.median().total_seconds(),\n",
    "    }\n",
    "\n",
    "def compute_pred_stats(pred):\n",
    "    return {\n",
    "        \"# predictions\": len(pred),\n",
    "        \"# utterances with predictions\": len(set(pred.last_utterance_index)),\n",
    "    }   \n",
    "\n",
    "def compute_click_stats(click):\n",
    "    click_example_mask = click.pred_index >= 0\n",
    "    return {\n",
    "        \"# example clicks\": click_example_mask.sum(),\n",
    "        \"# utterances with example clicks\": len(set(click[click_example_mask][\"last_utterance_index\"])),\n",
    "    }"
   ]
  },
  {
   "cell_type": "markdown",
   "metadata": {},
   "source": [
    "## Compute hide / show tool spans"
   ]
  },
  {
   "cell_type": "code",
   "execution_count": null,
   "metadata": {},
   "outputs": [],
   "source": [
    "def compute_toggle_spans(click, pred):\n",
    "    show_spans, hide_spans = [], []\n",
    "    i = 0\n",
    "    shown = 1\n",
    "    last_time = pred.time.min() \n",
    "    while i < len(click):\n",
    "        # Find the next hide\n",
    "        while i < len(click) and click.loc[i].pred_index != -1:\n",
    "            i += 1\n",
    "            continue\n",
    "        if i == len(click): break\n",
    "        shown = 0\n",
    "        hide_spans.append(click.loc[i].time - last_time)\n",
    "        last_time = click.loc[i].time\n",
    "\n",
    "        # Find the next show\n",
    "        while i < len(click) and click.loc[i].pred_index != -2:\n",
    "            i += 1\n",
    "            continue\n",
    "        if i == len(click): break\n",
    "        shown = 1\n",
    "        show_spans.append(click.loc[i].time - last_time)\n",
    "        last_time = click.loc[i].time\n",
    "    if shown:\n",
    "        show_spans.append(pred.time.max() - last_time)\n",
    "    else:\n",
    "        hide_spans.append(pred.time.max() - last_time)\n",
    "    spans = {\n",
    "        \"show tool span\": pd.Series(show_spans).sum().total_seconds() if len(show_spans) > 0 else 0,\n",
    "        \"hide tool span\": pd.Series(hide_spans).sum().total_seconds() if len(hide_spans) > 0 else 0,\n",
    "    }\n",
    "    spans[\"tool span\"] = spans[\"show tool span\"] + spans[\"hide tool span\"]\n",
    "    return spans"
   ]
  },
  {
   "cell_type": "markdown",
   "metadata": {},
   "source": [
    "# Between predictions and responses\n",
    "- Text similarity\n",
    "- Strategy similarity"
   ]
  },
  {
   "cell_type": "code",
   "execution_count": null,
   "metadata": {},
   "outputs": [],
   "source": [
    "import editdistance\n",
    "def compute_text_similarity(truth, predictions):\n",
    "    edit_distances = list(map(lambda p: editdistance.eval(truth, p), predictions))\n",
    "    return {\n",
    "        \"Edit Distances\": edit_distances,\n",
    "        \"Min Edit Distance\": min(edit_distances) if len(edit_distances) > 0 else len(truth),\n",
    "    }\n",
    "    \n",
    "def compute_dialog_pred_similarity(dialog, pred):\n",
    "    scores = []\n",
    "    for index, drow in dialog[dialog[\"is_listener\"]].iterrows():\n",
    "        last_prows = pred[pred[\"last_utterance_index\"] == index - 1]\n",
    "\n",
    "        utterance_true = drow[\"utterance\"].replace(L_TOKEN, \"\")\n",
    "        utterance_preds = last_prows[\"text\"].tolist()\n",
    "        score = compute_text_similarity(utterance_true, utterance_preds)\n",
    "\n",
    "        # TODO: tag true codes to compare\n",
    "        # codes_pred = last_prows[\"code\"].tolist()\n",
    "        scores.append(score)\n",
    "\n",
    "    score_dict = {\n",
    "        key: [s[key] for s in scores]\n",
    "        for key in scores[0].keys()    \n",
    "    }\n",
    "    score_dict[\"Edit Distances\"] = [y for x in score_dict[\"Edit Distances\"] for y in x]  # flatten\n",
    "    return score_dict"
   ]
  },
  {
   "cell_type": "code",
   "execution_count": null,
   "metadata": {},
   "outputs": [],
   "source": [
    "def compute_relative_stats(result):\n",
    "    result[r\"% of utterances with predictions\"] = result[\"# utterances with predictions\"] / result[\"# utterances\"] * 100\n",
    "    result[r\"% of utterances with example clicks\"] = result[\"# utterances with example clicks\"] / result[\"# utterances\"] * 100\n",
    "    result[r\"% of L utterances with example clicks\"] = result[\"# utterances with example clicks\"] / result[\"# L utterances\"] * 100\n",
    "    result[r\"% tool span\"] = result[\"tool span\"] / result[\"span\"] * 100\n",
    "    result[r\"% show tool span\"] = result[\"show tool span\"] / result[\"tool span\"] * 100\n",
    "    result[r\"% hide tool span\"] = result[\"hide tool span\"] / result[\"tool span\"] * 100\n",
    "\n",
    "def compute_stats_wrapper(dialog, click, pred):\n",
    "    result = {}\n",
    "    result.update(compute_dialog_stats(dialog))\n",
    "    result.update(compute_pred_stats(pred))\n",
    "    result.update(compute_click_stats(click))\n",
    "    result.update(compute_toggle_spans(click, pred))\n",
    "    result.update(compute_dialog_pred_similarity(dialog, pred))\n",
    "    compute_relative_stats(result)\n",
    "    return result"
   ]
  },
  {
   "cell_type": "code",
   "execution_count": null,
   "metadata": {},
   "outputs": [],
   "source": [
    "all_stats = []\n",
    "for prefix in sessions[\"filename_prefix\"]:\n",
    "    dialog, click, pred = load_logs(os.path.join(log_path, prefix))\n",
    "    stats = compute_stats_wrapper(dialog, click, pred)\n",
    "    all_stats.append(stats)\n",
    "stats_df = pd.concat([sessions, pd.DataFrame(data=all_stats)], axis=1)\n",
    "stats_df.to_csv(log_path + \".csv\", index=0)\n",
    "stats_df"
   ]
  },
  {
   "cell_type": "code",
   "execution_count": null,
   "metadata": {},
   "outputs": [],
   "source": [
    "for x in stats_df.columns:\n",
    "    print(x)"
   ]
  },
  {
   "cell_type": "code",
   "execution_count": null,
   "metadata": {},
   "outputs": [],
   "source": [
    "stats_df[\"% of utterances with predictions\"].describe()"
   ]
  },
  {
   "cell_type": "code",
   "execution_count": null,
   "metadata": {},
   "outputs": [],
   "source": []
  }
 ],
 "metadata": {
  "kernelspec": {
   "display_name": "Python 3.9.0 ('MI': conda)",
   "language": "python",
   "name": "python3"
  },
  "language_info": {
   "codemirror_mode": {
    "name": "ipython",
    "version": 3
   },
   "file_extension": ".py",
   "mimetype": "text/x-python",
   "name": "python",
   "nbconvert_exporter": "python",
   "pygments_lexer": "ipython3",
   "version": "3.9.0 (default, Nov 15 2020, 06:25:35) \n[Clang 10.0.0 ]"
  },
  "orig_nbformat": 4,
  "vscode": {
   "interpreter": {
    "hash": "4b75b81fdc2176fa2625b58f5b49ef10110eac4c44972d80176c62f06486cbde"
   }
  }
 },
 "nbformat": 4,
 "nbformat_minor": 2
}
