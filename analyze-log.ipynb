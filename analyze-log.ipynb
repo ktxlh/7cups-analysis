{
 "cells": [
  {
   "cell_type": "code",
   "execution_count": null,
   "metadata": {},
   "outputs": [],
   "source": [
    "import os\n",
    "import pandas as pd\n",
    "from datetime import datetime\n",
    "\n",
    "L_TOKEN = \"<|listener|>\"\n",
    "C_TOKEN = \"<|client|>\"\n",
    "\n",
    "log_path = \"/Users/shanglinghsu/backup_logs/flask_outputs_20221202\"\n",
    "DATETIME_FORMAT = \"%Y-%m-%d_%H-%M-%S\"\n",
    "DATE_MICROSEC_FORMAT = \"%Y-%m-%d_%H-%M-%S.%f\"\n",
    "DIALOG_COLUMNS = ['user_id', 'is_listener', 'utterance', 'time']\n",
    "PRED_COLUMNS = ['code', 'score', 'last_utterance_index', 'pred_index', 'text', 'time']\n",
    "CLICK_COLUMNS = ['last_utterance_index', 'pred_index', 'time']\n",
    "\n",
    "EXP_START = datetime(year=2022, month=11, day=13, hour=13, minute=28, second=51)  # 2022-11-13 13:28:50\n",
    "\n",
    "def f_optional_strptime(dtstr):\n",
    "    format = DATE_MICROSEC_FORMAT if \".\" in dtstr else DATETIME_FORMAT\n",
    "    return datetime.strptime(dtstr, format)\n",
    "\n",
    "def parse_df_time(df):\n",
    "    df[\"time\"] = df[\"time\"].apply(f_optional_strptime)"
   ]
  },
  {
   "cell_type": "code",
   "execution_count": null,
   "metadata": {},
   "outputs": [],
   "source": [
    "data = {\"chat_id\":[], \"datetime\":[], \"filename_prefix\": [], \"num_utterances\": []}\n",
    "filenames = os.listdir(log_path)\n",
    "unique_datetime = set()\n",
    "for x in filenames:\n",
    "    x_split = x.split('_')\n",
    "    datetime = f_optional_strptime('_'.join(x_split[:2]))\n",
    "    if datetime in unique_datetime or datetime < EXP_START: continue\n",
    "    unique_datetime.add(datetime)\n",
    "\n",
    "    chat_id = x_split[2]\n",
    "    filename_prefix = \"_\".join(x_split[:3])\n",
    "\n",
    "    fname = \"{}_dialog.csv\".format(filename_prefix)\n",
    "    dialog_df = pd.read_csv(os.path.join(log_path, fname), header=0)\n",
    "    data[\"num_utterances\"].append(len(dialog_df[\"utterance\"]))\n",
    "\n",
    "    data[\"chat_id\"].append(chat_id)\n",
    "    data[\"datetime\"].append(datetime)\n",
    "    data[\"filename_prefix\"].append(filename_prefix)\n",
    "\n",
    "sessions = pd.DataFrame(data=data)\n",
    "sessions.sort_values(\"datetime\", inplace=True)\n",
    "sessions.reset_index(drop=True, inplace=True)\n",
    "sessions.to_csv(log_path + \".csv\", index=0)\n",
    "\n",
    "print(\"Number of chats:\", len(sessions))"
   ]
  },
  {
   "cell_type": "code",
   "execution_count": null,
   "metadata": {},
   "outputs": [],
   "source": [
    "sessions[\"num_utterances\"].describe()[[\"min\", \"max\", \"mean\", \"std\"]]"
   ]
  },
  {
   "cell_type": "code",
   "execution_count": null,
   "metadata": {},
   "outputs": [],
   "source": [
    "def load_logs(path_prefix):\n",
    "    dialog = pd.read_csv(path_prefix + \"_dialog.csv\", header=0)[DIALOG_COLUMNS]\n",
    "    click = pd.read_csv(path_prefix + \"_click.csv\", header=0) #[CLICK_COLUMNS]\n",
    "    pred = pd.read_csv(path_prefix + \"_pred.csv\", header=0) #[PRED_COLUMNS]\n",
    "\n",
    "    for df in [dialog, click, pred]:\n",
    "        if \"time\" in df.columns:\n",
    "            parse_df_time(df)\n",
    "    return dialog, click, pred\n",
    "\n",
    "def compute_response_times(dialog, mask):\n",
    "    return (dialog.time - dialog.time.shift(1))[mask]\n",
    "\n",
    "def compute_basic_stats(dialog):\n",
    "    lrt = compute_response_times(dialog, dialog.is_listener == True)\n",
    "    mrt = compute_response_times(dialog, dialog.is_listener == False)\n",
    "    return {\n",
    "        \"span\": dialog.time.max() - dialog.time.min(),\n",
    "        \"# L utterances\": sum(dialog.is_listener == True),\n",
    "        \"# M utterances\": sum(dialog.is_listener == False),\n",
    "        \"avg_l_response_time\": lrt.mean(),\n",
    "        \"med_l_response_time\": lrt.median(),\n",
    "        \"avg_m_response_time\": mrt.mean(),\n",
    "        \"med_m_response_time\": mrt.median(),\n",
    "    }"
   ]
  },
  {
   "cell_type": "code",
   "execution_count": null,
   "metadata": {},
   "outputs": [],
   "source": [
    "prefix = sessions.loc[0, \"filename_prefix\"]\n",
    "dialog, click, pred = load_logs(os.path.join(log_path, prefix))\n",
    "compute_basic_stats(dialog)"
   ]
  },
  {
   "cell_type": "markdown",
   "metadata": {},
   "source": [
    "# Between predictions and responses\n",
    "- Text similarity\n",
    "- Strategy similarity"
   ]
  },
  {
   "cell_type": "code",
   "execution_count": null,
   "metadata": {},
   "outputs": [],
   "source": [
    "import editdistance\n",
    "def compute_text_similarity(truth, predictions):\n",
    "    return {\n",
    "        \"Edit Distance\": list(map(lambda p: editdistance.eval(truth, p), predictions)),\n",
    "    }"
   ]
  },
  {
   "cell_type": "code",
   "execution_count": null,
   "metadata": {},
   "outputs": [],
   "source": [
    "index = 9\n",
    "drow = dialog[dialog[\"is_listener\"]].loc[index]\n",
    "utterance_true = drow[\"utterance\"].replace(L_TOKEN, \"\")\n",
    "\n",
    "last_prows = pred[pred[\"last_utterance_index\"] == index - 1]\n",
    "codes_pred = last_prows[\"code\"].tolist()\n",
    "utterance_preds = last_prows[\"text\"].tolist()\n",
    "\n",
    "compute_text_similarity(utterance_true, utterance_preds)"
   ]
  },
  {
   "cell_type": "code",
   "execution_count": null,
   "metadata": {},
   "outputs": [],
   "source": []
  }
 ],
 "metadata": {
  "kernelspec": {
   "display_name": "Python 3.9.0 ('MI': conda)",
   "language": "python",
   "name": "python3"
  },
  "language_info": {
   "codemirror_mode": {
    "name": "ipython",
    "version": 3
   },
   "file_extension": ".py",
   "mimetype": "text/x-python",
   "name": "python",
   "nbconvert_exporter": "python",
   "pygments_lexer": "ipython3",
   "version": "3.9.0"
  },
  "orig_nbformat": 4,
  "vscode": {
   "interpreter": {
    "hash": "4b75b81fdc2176fa2625b58f5b49ef10110eac4c44972d80176c62f06486cbde"
   }
  }
 },
 "nbformat": 4,
 "nbformat_minor": 2
}
