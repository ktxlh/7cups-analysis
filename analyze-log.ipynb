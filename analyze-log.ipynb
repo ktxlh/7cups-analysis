{
 "cells": [
  {
   "cell_type": "code",
   "execution_count": 40,
   "metadata": {},
   "outputs": [],
   "source": [
    "import os\n",
    "import pandas as pd\n",
    "from datetime import datetime, timedelta\n",
    "\n",
    "log_path = \"/home/ubuntu/models/test_flask_outputs\"\n",
    "DATETIME_FORMAT = \"%Y-%m-%d_%H-%M-%S\"\n",
    "DATE_MICROSEC_FORMAT = \"%Y-%m-%d_%H-%M-%S.%f\"\n",
    "DIALOG_COLUMNS = ['user_id', 'is_listener', 'utterance', 'time']\n",
    "PRED_COLUMNS = ['code', 'score', 'last_utterance_index', 'pred_index', 'text', 'time']\n",
    "CLICK_COLUMNS = ['last_utterance_index', 'pred_index', 'time']\n",
    "\n",
    "def f_optional_strptime(dtstr):\n",
    "    format = DATE_MICROSEC_FORMAT if \".\" in dtstr else DATETIME_FORMAT\n",
    "    return datetime.strptime(dtstr, format)\n",
    "\n",
    "def parse_df_time(df):\n",
    "    df[\"time\"] = df[\"time\"].apply(f_optional_strptime)"
   ]
  },
  {
   "cell_type": "code",
   "execution_count": 41,
   "metadata": {},
   "outputs": [
    {
     "name": "stdout",
     "output_type": "stream",
     "text": [
      "Number of sessions: 39\n"
     ]
    },
    {
     "data": {
      "text/html": [
       "<div>\n",
       "<style scoped>\n",
       "    .dataframe tbody tr th:only-of-type {\n",
       "        vertical-align: middle;\n",
       "    }\n",
       "\n",
       "    .dataframe tbody tr th {\n",
       "        vertical-align: top;\n",
       "    }\n",
       "\n",
       "    .dataframe thead th {\n",
       "        text-align: right;\n",
       "    }\n",
       "</style>\n",
       "<table border=\"1\" class=\"dataframe\">\n",
       "  <thead>\n",
       "    <tr style=\"text-align: right;\">\n",
       "      <th></th>\n",
       "      <th>chat_id</th>\n",
       "      <th>date_time</th>\n",
       "    </tr>\n",
       "  </thead>\n",
       "  <tbody>\n",
       "    <tr>\n",
       "      <th>0</th>\n",
       "      <td>mock</td>\n",
       "      <td>2022-10-30 21:21:11</td>\n",
       "    </tr>\n",
       "    <tr>\n",
       "      <th>1</th>\n",
       "      <td>mock</td>\n",
       "      <td>2022-10-30 21:21:12</td>\n",
       "    </tr>\n",
       "    <tr>\n",
       "      <th>2</th>\n",
       "      <td>mock</td>\n",
       "      <td>2022-11-02 14:23:00</td>\n",
       "    </tr>\n",
       "    <tr>\n",
       "      <th>3</th>\n",
       "      <td>mock</td>\n",
       "      <td>2022-11-02 14:43:38</td>\n",
       "    </tr>\n",
       "    <tr>\n",
       "      <th>4</th>\n",
       "      <td>mock</td>\n",
       "      <td>2022-11-02 19:40:24</td>\n",
       "    </tr>\n",
       "  </tbody>\n",
       "</table>\n",
       "</div>"
      ],
      "text/plain": [
       "  chat_id           date_time\n",
       "0    mock 2022-10-30 21:21:11\n",
       "1    mock 2022-10-30 21:21:12\n",
       "2    mock 2022-11-02 14:23:00\n",
       "3    mock 2022-11-02 14:43:38\n",
       "4    mock 2022-11-02 19:40:24"
      ]
     },
     "execution_count": 41,
     "metadata": {},
     "output_type": "execute_result"
    }
   ],
   "source": [
    "data = {\"chat_id\":[], \"date_time\":[]}\n",
    "filenames = os.listdir(log_path)\n",
    "unique_datetime = set()\n",
    "for x in filenames:\n",
    "    x_split = x.split('_')\n",
    "    chat_id = x_split[2]\n",
    "    date_time = f_optional_strptime('_'.join(x_split[:2]))\n",
    "    \n",
    "    if date_time in unique_datetime:\n",
    "        continue\n",
    "    unique_datetime.add(date_time)\n",
    "\n",
    "    data[\"chat_id\"].append(chat_id)\n",
    "    data[\"date_time\"].append(date_time)\n",
    "sessions = pd.DataFrame(data=data)\n",
    "sessions.sort_values(\"date_time\", inplace=True)\n",
    "sessions.reset_index(drop=True, inplace=True)\n",
    "print(\"Number of sessions:\", len(sessions))\n",
    "sessions.head()"
   ]
  },
  {
   "cell_type": "code",
   "execution_count": 43,
   "metadata": {},
   "outputs": [
    {
     "data": {
      "text/html": [
       "<div>\n",
       "<style scoped>\n",
       "    .dataframe tbody tr th:only-of-type {\n",
       "        vertical-align: middle;\n",
       "    }\n",
       "\n",
       "    .dataframe tbody tr th {\n",
       "        vertical-align: top;\n",
       "    }\n",
       "\n",
       "    .dataframe thead th {\n",
       "        text-align: right;\n",
       "    }\n",
       "</style>\n",
       "<table border=\"1\" class=\"dataframe\">\n",
       "  <thead>\n",
       "    <tr style=\"text-align: right;\">\n",
       "      <th></th>\n",
       "      <th>chat_id</th>\n",
       "      <th>date_time</th>\n",
       "    </tr>\n",
       "  </thead>\n",
       "  <tbody>\n",
       "    <tr>\n",
       "      <th>0</th>\n",
       "      <td>mock</td>\n",
       "      <td>2022-10-30 21:21:11</td>\n",
       "    </tr>\n",
       "    <tr>\n",
       "      <th>1</th>\n",
       "      <td>mock</td>\n",
       "      <td>2022-10-30 21:21:12</td>\n",
       "    </tr>\n",
       "    <tr>\n",
       "      <th>2</th>\n",
       "      <td>mock</td>\n",
       "      <td>2022-11-02 14:23:00</td>\n",
       "    </tr>\n",
       "    <tr>\n",
       "      <th>3</th>\n",
       "      <td>mock</td>\n",
       "      <td>2022-11-02 14:43:38</td>\n",
       "    </tr>\n",
       "    <tr>\n",
       "      <th>4</th>\n",
       "      <td>mock</td>\n",
       "      <td>2022-11-02 19:40:24</td>\n",
       "    </tr>\n",
       "  </tbody>\n",
       "</table>\n",
       "</div>"
      ],
      "text/plain": [
       "  chat_id           date_time\n",
       "0    mock 2022-10-30 21:21:11\n",
       "1    mock 2022-10-30 21:21:12\n",
       "2    mock 2022-11-02 14:23:00\n",
       "3    mock 2022-11-02 14:43:38\n",
       "4    mock 2022-11-02 19:40:24"
      ]
     },
     "execution_count": 43,
     "metadata": {},
     "output_type": "execute_result"
    }
   ],
   "source": [
    "# See dialogues one at a time\n",
    "for i, row in sessions.iterrows():\n",
    "    fname = \"{}_{}_dialog.csv\".format(datetime.strftime(row.date_time, DATETIME_FORMAT), row.chat_id)\n",
    "    dialog_df = pd.read_csv(os.path.join(log_path, fname), header=0)\n",
    "    dialog_df = dialog_df[DIALOG_COLUMNS]\n",
    "sessions.head()"
   ]
  },
  {
   "cell_type": "code",
   "execution_count": 95,
   "metadata": {},
   "outputs": [],
   "source": [
    "def get_logs(path_prefix):\n",
    "    dialog = pd.read_csv(path_prefix + \"dialog.csv\", header=0)[DIALOG_COLUMNS]\n",
    "    click = pd.read_csv(path_prefix + \"click.csv\", header=0) #[CLICK_COLUMNS]\n",
    "    pred = pd.read_csv(path_prefix + \"pred.csv\", header=0) #[PRED_COLUMNS]\n",
    "\n",
    "    for df in [dialog, click, pred]:\n",
    "        if \"time\" in df.columns:\n",
    "            parse_df_time(df)\n",
    "    return dialog, click, pred"
   ]
  },
  {
   "cell_type": "code",
   "execution_count": 99,
   "metadata": {},
   "outputs": [],
   "source": [
    "# response times\n",
    "def compute_response_times(dialog, mask):\n",
    "    return dialog[mask].time - dialog[mask].time.shift(1)\n",
    "\n",
    "def compute_stats(dialog, click):\n",
    "    lrt = compute_response_times(dialog, dialog.is_listener == True)\n",
    "    mrt = compute_response_times(dialog, dialog.is_listener == False)\n",
    "    return {\n",
    "        \"span\": dialog.time.max() - dialog.time.min(),\n",
    "        \"# L utterances\": sum(dialog.is_listener == True),\n",
    "        \"# M utterances\": sum(dialog.is_listener == False),\n",
    "        \"# clicks\": len(click),\n",
    "        \"avg_l_response_time\": lrt.mean(),\n",
    "        \"med_l_response_time\": lrt.median(),\n",
    "        \"avg_m_response_time\": mrt.mean(),\n",
    "        \"med_m_response_time\": mrt.median(),\n",
    "    }"
   ]
  },
  {
   "cell_type": "code",
   "execution_count": 100,
   "metadata": {},
   "outputs": [
    {
     "data": {
      "text/plain": [
       "{'span': Timedelta('0 days 00:11:26'),\n",
       " '# L utterances': 7,\n",
       " '# M utterances': 7,\n",
       " '# clicks': 7,\n",
       " 'avg_l_response_time': Timedelta('0 days 00:01:51.500000'),\n",
       " 'med_l_response_time': Timedelta('0 days 00:01:38.500000'),\n",
       " 'avg_m_response_time': Timedelta('0 days 00:01:35'),\n",
       " 'med_m_response_time': Timedelta('0 days 00:01:17')}"
      ]
     },
     "execution_count": 100,
     "metadata": {},
     "output_type": "execute_result"
    }
   ],
   "source": [
    "path_prefix = \"/home/ubuntu/models/test_flask_outputs/2022-11-02_20-30-22_mock_\" # Qianyi chat 1\n",
    "\n",
    "dialog, click, pred = get_logs(path_prefix)\n",
    "compute_stats(dialog, click)"
   ]
  },
  {
   "cell_type": "code",
   "execution_count": 101,
   "metadata": {},
   "outputs": [
    {
     "data": {
      "text/plain": [
       "{'span': Timedelta('0 days 00:05:35'),\n",
       " '# L utterances': 9,\n",
       " '# M utterances': 9,\n",
       " '# clicks': 0,\n",
       " 'avg_l_response_time': Timedelta('0 days 00:00:41.875000'),\n",
       " 'med_l_response_time': Timedelta('0 days 00:00:44.500000'),\n",
       " 'avg_m_response_time': Timedelta('0 days 00:00:39.625000'),\n",
       " 'med_m_response_time': Timedelta('0 days 00:00:37')}"
      ]
     },
     "execution_count": 101,
     "metadata": {},
     "output_type": "execute_result"
    }
   ],
   "source": [
    "path_prefix = \"/home/ubuntu/models/test_flask_outputs/2022-11-02_20-41-53_mock_\"  # Qianyi chat 2\n",
    "\n",
    "dialog, click, pred = get_logs(path_prefix)\n",
    "compute_stats(dialog, click)"
   ]
  },
  {
   "cell_type": "code",
   "execution_count": 102,
   "metadata": {},
   "outputs": [
    {
     "name": "stdout",
     "output_type": "stream",
     "text": [
      "Client's utterances:\n",
      "Hi\n",
      "i'll take the exam for medical school admission next month\n",
      "but I don't think I can get into any at all\n",
      "what school on earth will admit me anyways??\n",
      "yeah definitely--I don't have time to enjoy my college life either\n",
      "study, study, and study\n",
      "no friends no life. I can't stand with it anymore\n",
      "i have no choice. If I don't get into a med school, I don't know what my value is\n",
      "i have claimed that I'll be a surgeon literally to everyone\n"
     ]
    }
   ],
   "source": [
    "print(\"Client's utterances:\")\n",
    "for x in dialog.utterance[dialog.is_listener == False]:\n",
    "    print(x.replace(\"<|client|>\", \"\"))"
   ]
  },
  {
   "cell_type": "code",
   "execution_count": null,
   "metadata": {},
   "outputs": [],
   "source": []
  }
 ],
 "metadata": {
  "kernelspec": {
   "display_name": "Python 3.9.4 ('base')",
   "language": "python",
   "name": "python3"
  },
  "language_info": {
   "codemirror_mode": {
    "name": "ipython",
    "version": 3
   },
   "file_extension": ".py",
   "mimetype": "text/x-python",
   "name": "python",
   "nbconvert_exporter": "python",
   "pygments_lexer": "ipython3",
   "version": "3.9.4"
  },
  "orig_nbformat": 4,
  "vscode": {
   "interpreter": {
    "hash": "d4d1e4263499bec80672ea0156c357c1ee493ec2b1c70f0acce89fc37c4a6abe"
   }
  }
 },
 "nbformat": 4,
 "nbformat_minor": 2
}
