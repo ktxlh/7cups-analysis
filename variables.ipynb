{
 "cells": [
  {
   "cell_type": "markdown",
   "metadata": {},
   "source": [
    "## Load and join tables"
   ]
  },
  {
   "cell_type": "code",
   "execution_count": 10,
   "metadata": {},
   "outputs": [],
   "source": [
    "import pandas as pd\n",
    "\n",
    "PROFILES = \"/Users/shanglinghsu/7cups-analysis/profiles.csv\"\n",
    "CHAT_RESPONSES = \"/Users/shanglinghsu/7cups-analysis/Chat Questionnaire (Responses) - Form Responses 1.tsv\"\n",
    "EXP_RESPONSES = \"/Users/shanglinghsu/7cups-analysis/Experiment Questionnaire (Responses) - Form Responses 1.tsv\"\n",
    "PARTICIPANTS = \"/Users/shanglinghsu/Library/CloudStorage/OneDrive-GeorgiaInstituteofTechnology/7 Cups Participants.xlsx\"\n",
    "LOG_PATH = \"/Users/shanglinghsu/backup_logs/flask_outputs_20221202\"\n",
    "\n",
    "participants = pd.read_excel(PARTICIPANTS)\n",
    "participants = participants[participants[\"Username\"].notna()]  # Filter mock interivews\n",
    "participants = participants[participants[\"Category Chosen\"].notna()]  # Filter no-show and no responses\n",
    "participants[\"user_id\"] = participants[\"user_id\"].astype(pd.Int16Dtype(), copy=False)\n",
    "participants.reset_index(inplace=True)\n",
    "participants[\"Participant Index\"] = participants.index + 1\n",
    "NUM_PARTICIPANTS = len(participants)\n",
    "\n",
    "profiles = pd.read_csv(PROFILES, header=0, index_col=0)\n",
    "exp_responses = pd.read_csv(EXP_RESPONSES, header=0, sep=\"\\t\")\n",
    "chat_responses = pd.read_csv(CHAT_RESPONSES, header=0, sep=\"\\t\")\n",
    "chats = pd.read_csv(LOG_PATH + \".csv\", header=0)"
   ]
  },
  {
   "cell_type": "markdown",
   "metadata": {},
   "source": [
    "## User table"
   ]
  },
  {
   "cell_type": "code",
   "execution_count": 11,
   "metadata": {},
   "outputs": [],
   "source": [
    "# Can't join() due to poor support of join() on string dtype\n",
    "def left_join_in_place(left, right, left_on, right_on, rprefix):\n",
    "    for column in right.columns:\n",
    "        if column == right_on: continue\n",
    "        mask, values = [], []\n",
    "        for i, x in enumerate(left[left_on]):\n",
    "            mask = right[right_on] == x\n",
    "            if any(mask):\n",
    "                values.append(right[column][mask].iloc[0])\n",
    "            elif rprefix + column in left.columns:\n",
    "                values.append(left[rprefix + column].loc[i])\n",
    "            else:\n",
    "                values.append(pd.NA)\n",
    "        left[rprefix + column] = values\n",
    "    return left\n",
    "\n",
    "EXP_PREFIX = \"EXP_\"\n",
    "left_join_in_place(participants, profiles, \"Username\", \"Username\", \"\")\n",
    "left_join_in_place(participants, exp_responses, \"user_id\", \"What is the 3-digit User ID for this experiment?\", EXP_PREFIX)\n",
    "\n",
    "# Alias for readability\n",
    "participants[\"Category Confidence\"] = participants[[col for col in participants.columns if \"confident\" in col][0]]"
   ]
  },
  {
   "cell_type": "markdown",
   "metadata": {},
   "source": [
    "### Convert user attributes to numeric and binary values"
   ]
  },
  {
   "cell_type": "code",
   "execution_count": 12,
   "metadata": {},
   "outputs": [],
   "source": [
    "from datetime import datetime\n",
    "BIN_PREFIX = \"BIN_\"\n",
    "NUM_PREFIX = \"NUM_\"\n",
    "\n",
    "def add_convert_column(df, prefix, field, callback):\n",
    "    df[prefix + field] = df[field].apply(callback)"
   ]
  },
  {
   "cell_type": "markdown",
   "metadata": {},
   "source": [
    "### Control variables"
   ]
  },
  {
   "cell_type": "code",
   "execution_count": 13,
   "metadata": {},
   "outputs": [
    {
     "name": "stderr",
     "output_type": "stream",
     "text": [
      "/var/folders/sh/npz3g13d7xv_cgxh2rjw81_w0000gn/T/ipykernel_7935/1917026257.py:3: SettingWithCopyWarning: \n",
      "A value is trying to be set on a copy of a slice from a DataFrame\n",
      "\n",
      "See the caveats in the documentation: https://pandas.pydata.org/pandas-docs/stable/user_guide/indexing.html#returning-a-view-versus-a-copy\n",
      "  participants[\"Counseling Background\"][participants[\"Counseling Background\"].isna()] = 0.5\n"
     ]
    }
   ],
   "source": [
    "add_convert_column(participants, BIN_PREFIX, \"Counseling Background\", lambda x: 1 if x else 0)\n",
    "add_convert_column(participants, BIN_PREFIX, 'show_suggestion_first', lambda x: 1 if x else 0)\n",
    "participants[\"Counseling Background\"][participants[\"Counseling Background\"].isna()] = 0.5"
   ]
  },
  {
   "cell_type": "markdown",
   "metadata": {},
   "source": [
    "### Profiles"
   ]
  },
  {
   "cell_type": "code",
   "execution_count": 14,
   "metadata": {},
   "outputs": [
    {
     "name": "stdout",
     "output_type": "stream",
     "text": [
      "min       25.0\n",
      "max    33255.0\n",
      "Name: Chats, dtype: float64\n",
      "min   -3141.0\n",
      "max     -55.0\n",
      "Name: NUM_Listener Since, dtype: float64\n"
     ]
    }
   ],
   "source": [
    "add_convert_column(participants, NUM_PREFIX, \"Listener Rating\", lambda x: float(x.split()[0]))\n",
    "add_convert_column(participants, NUM_PREFIX, \"Progress Path\", lambda x: int(x.split()[1].replace(\",\", \"\")))\n",
    "add_convert_column(participants, \"OBJ_\", \"Listener Since\", lambda x: datetime.strptime(x, \"%b %d, %Y\"))\n",
    "add_convert_column(participants, NUM_PREFIX, \"Listener Since\", lambda x: (datetime.strptime(x, \"%b %d, %Y\") - datetime.now()).days)\n",
    "\n",
    "NUM_COL_PROFILES = [\n",
    "    \"NUM_Listener Rating\", \n",
    "    \"NUM_Progress Path\", \n",
    "    \"NUM_Listener Since\",\n",
    "    \"Number of Ratings:\",\n",
    "    \"Number of Reviews:\",\n",
    "    \"Cheers\",\n",
    "    \"People Helped\",\n",
    "    \"Chats\",\n",
    "    \"Group Support Chats\",\n",
    "    \"Listener Group Chats\",\n",
    "    \"Forum Posts\",\n",
    "    \"Forum Upvotes\",\n",
    "]\n",
    "print(participants[\"Chats\"].describe()[[\"min\", \"max\"]])\n",
    "print(participants[\"NUM_Listener Since\"].describe()[[\"min\", \"max\"]])"
   ]
  },
  {
   "cell_type": "markdown",
   "metadata": {},
   "source": [
    "### Exp Responses"
   ]
  },
  {
   "cell_type": "code",
   "execution_count": 15,
   "metadata": {
    "tags": [
     "parameters"
    ]
   },
   "outputs": [],
   "source": [
    "FREQ_MAP_NUM = {\n",
    "    \"Never\": 0,\n",
    "    \"Very Rarely\": 1,\n",
    "    \"Rarely\": 2,\n",
    "    \"Occasionally\": 3,\n",
    "    \"Frequently\": 4,\n",
    "    \"Very Frequently\": 5,\n",
    "}\n",
    "AGREE_MAP_NUM = {\n",
    "    \"Strongly Disagree\": 0,\n",
    "    \"Disagree\": 1,\n",
    "    \"Undecided\": 2,\n",
    "    \"Agree\": 3,\n",
    "    \"Strongly Agree\": 4,\n",
    "}\n",
    "PROB_MAP_NUM = {\n",
    "    \"Very Probably Not\": 0,\n",
    "    \"Probably Not\": 1,\n",
    "    \"Possibly\": 2,\n",
    "    \"Probably\": 3,\n",
    "    \"Very Probably\": 4,\n",
    "    \"Definitely\": 5,\n",
    "}\n",
    "###############################################################################\n",
    "FREQ_MAP_BIN = {\n",
    "    \"Never\": 0,\n",
    "    \"Very Rarely\": 0,\n",
    "    \"Rarely\": 0,\n",
    "    \"Occasionally\": 1,\n",
    "    \"Frequently\": 1,\n",
    "    \"Very Frequently\": 1,\n",
    "}\n",
    "AGREE_MAP_BIN = {\n",
    "    \"Strongly Disagree\": 0.0,\n",
    "    \"Disagree\": 0.0,\n",
    "    \"Undecided\": 0.5,\n",
    "    \"Agree\": 1.0,\n",
    "    \"Strongly Agree\": 1.0,\n",
    "}\n",
    "PROB_MAP_BIN = {\n",
    "    \"Very Probably Not\": 0,\n",
    "    \"Probably Not\": 0,\n",
    "    \"Possibly\": 0,\n",
    "    \"Probably\": 1,\n",
    "    \"Very Probably\": 1,\n",
    "    \"Definitely\": 1,\n",
    "}\n",
    "###############################################################################\n",
    "FREQ_OPTIONS = [\n",
    "    \"Never\",\n",
    "    \"Very Rarely\",\n",
    "    \"Rarely\",\n",
    "    \"Occasionally\",\n",
    "    \"Frequently\",\n",
    "    \"Very Frequently\",\n",
    "]\n",
    "AGREE_OPTIONS = [\n",
    "    \"Strongly Disagree\",\n",
    "    \"Disagree\",\n",
    "    \"Undecided\",\n",
    "    \"Agree\",\n",
    "    \"Strongly Agree\",\n",
    "]\n",
    "PROB_OPTIONS = [\n",
    "    \"Very Probably Not\",\n",
    "    \"Probably Not\",\n",
    "    \"Possibly\",\n",
    "    \"Probably\",\n",
    "    \"Very Probably\",\n",
    "    \"Definitely\",\n",
    "]"
   ]
  },
  {
   "cell_type": "code",
   "execution_count": 16,
   "metadata": {},
   "outputs": [
    {
     "data": {
      "text/plain": [
       "['EXP_Timestamp',\n",
       " 'EXP_How confident are you about listening in the category you selected, such as relationship stress or anxiety?',\n",
       " 'EXP_As a whole, was the tool... [reliable?]']"
      ]
     },
     "execution_count": 16,
     "metadata": {},
     "output_type": "execute_result"
    }
   ],
   "source": [
    "harmful_cols = [col for col in participants.columns if col.startswith(EXP_PREFIX) and \"harmful\" in col]\n",
    "use_cols = [col for col in participants.columns if col.startswith(EXP_PREFIX) and \"make use of\" in col]\n",
    "freq_cols = [col for col in participants.columns if col.startswith(EXP_PREFIX) and (\"often\" in col and col not in harmful_cols + use_cols)]\n",
    "agree_cols = [col for col in participants.columns if col.startswith(EXP_PREFIX) and \"As a whole\" in col and \"reliable\" not in col]\n",
    "prob_cols = [col for col in participants.columns if col.startswith(EXP_PREFIX) and \"will you\" in col]\n",
    "checkbox_cols = [col for col in participants.columns if col.startswith(EXP_PREFIX) and (\"What do you\" in col or \"more when\" in col)]\n",
    "demo_cols = [col for col in participants.columns if col.startswith(EXP_PREFIX) and (\"age\" in col or \"preferred pronoun(s)\" in col or \"device\" in col)]\n",
    "open_cols = [col for col in participants.columns if col.startswith(EXP_PREFIX) and (col == 'EXP_Any other comments?' or \"like about\" in col or \"helps more\" in col)]\n",
    "confident_cols = [col for col in participants.columns if \"Confidence\" in col]\n",
    "\n",
    "# unused coloumns\n",
    "used_cols = harmful_cols + use_cols + freq_cols + agree_cols + prob_cols + checkbox_cols + demo_cols + open_cols + confident_cols\n",
    "[col for col in participants.columns if col.startswith(EXP_PREFIX) and col not in used_cols]"
   ]
  },
  {
   "cell_type": "code",
   "execution_count": 17,
   "metadata": {},
   "outputs": [],
   "source": [
    "for column in freq_cols + use_cols:\n",
    "    add_convert_column(participants, NUM_PREFIX, column, lambda x: FREQ_MAP_NUM[x])\n",
    "    add_convert_column(participants, BIN_PREFIX, column, lambda x: FREQ_MAP_BIN[x])\n",
    "for column in agree_cols:\n",
    "    add_convert_column(participants, NUM_PREFIX, column, lambda x: AGREE_MAP_NUM[x])\n",
    "    add_convert_column(participants, BIN_PREFIX, column, lambda x: AGREE_MAP_BIN[x])\n",
    "for column in prob_cols:\n",
    "    add_convert_column(participants, NUM_PREFIX, column, lambda x: PROB_MAP_NUM[x])\n",
    "    add_convert_column(participants, BIN_PREFIX, column, lambda x: PROB_MAP_BIN[x])"
   ]
  },
  {
   "cell_type": "code",
   "execution_count": 18,
   "metadata": {},
   "outputs": [],
   "source": [
    "participants.to_csv(\"participants_table.csv\")"
   ]
  },
  {
   "cell_type": "markdown",
   "metadata": {},
   "source": [
    "## Chat table\n",
    "To get from `participants`:\n",
    "- participant user_id\n",
    "- category\n",
    "- order\n",
    "- with tool or not"
   ]
  },
  {
   "cell_type": "code",
   "execution_count": 19,
   "metadata": {},
   "outputs": [
    {
     "name": "stderr",
     "output_type": "stream",
     "text": [
      "/var/folders/sh/npz3g13d7xv_cgxh2rjw81_w0000gn/T/ipykernel_7935/1856179558.py:4: SettingWithCopyWarning: \n",
      "A value is trying to be set on a copy of a slice from a DataFrame.\n",
      "Try using .loc[row_indexer,col_indexer] = value instead\n",
      "\n",
      "See the caveats in the documentation: https://pandas.pydata.org/pandas-docs/stable/user_guide/indexing.html#returning-a-view-versus-a-copy\n",
      "  participants_chat_df[CAT_COL] = participants_chat_df[\"Category Chosen\"].apply(lambda x: 1 if x == \"A\" else 0)\n"
     ]
    }
   ],
   "source": [
    "participants_chat_df = participants[[col for col in participants.columns if (\"id_\" in col) or (\"ategory\" in col) or (\"first\" in col) or (\"user_id\" in col)]]\n",
    "\n",
    "CAT_COL = \"Choose Anxiety\"\n",
    "participants_chat_df[CAT_COL] = participants_chat_df[\"Category Chosen\"].apply(lambda x: 1 if x == \"A\" else 0)\n",
    "\n",
    "left_join_in_place(chats, participants_chat_df, \"chat_id\", \"chat_id_1\", \"\")\n",
    "left_join_in_place(chats, participants_chat_df, \"chat_id\", \"chat_id_2\", \"\")\n",
    "ORDER_COL = \"Order\"\n",
    "chats[ORDER_COL] = [0] * len(chats)\n",
    "chats.loc[chats[\"chat_id_2\"].isna(), ORDER_COL] = 2\n",
    "chats.loc[chats[\"chat_id_1\"].isna(), ORDER_COL] = 1\n",
    "\n",
    "SHOW_COL = \"Show Suggestions\"\n",
    "chats[SHOW_COL] = [0] * len(chats)\n",
    "chats.loc[(chats[ORDER_COL] == 1) & (chats[\"show_suggestion_first\"] > 0.5), SHOW_COL] = 1\n",
    "chats.loc[(chats[ORDER_COL] == 2) & (chats[\"show_suggestion_first\"] < 0.5), SHOW_COL] = 1\n",
    "chats.head(5)\n",
    "\n",
    "chats = chats[list(filter(lambda x: (\"_1\" not in x) and (\"_2\" not in x) and (EXP_PREFIX not in x) and (\"show_suggestion_first\" not in x), chats.columns))]\n",
    "left_join_in_place(chats, chat_responses, \"chat_id\", \"What is the 3-letter Chat ID for this chat?\", \"\")\n",
    "chats = chats.sort_values(by=['datetime'])\n",
    "\n",
    "chats = chats[list(filter(lambda x: ((not any(chats[x].isna())) or x.startswith(\"Any\")), chats.columns))]\n",
    "\n",
    "chats.to_csv(\"chats_table.csv\")"
   ]
  },
  {
   "cell_type": "markdown",
   "metadata": {},
   "source": [
    "## Demographic"
   ]
  },
  {
   "cell_type": "code",
   "execution_count": 20,
   "metadata": {},
   "outputs": [
    {
     "data": {
      "text/plain": [
       "min     18.000000\n",
       "max     69.000000\n",
       "mean    36.333333\n",
       "std     16.391054\n",
       "Name: EXP_What is your age?, dtype: float64"
      ]
     },
     "execution_count": 20,
     "metadata": {},
     "output_type": "execute_result"
    }
   ],
   "source": [
    "participants['EXP_What is your age?'].describe()[[\"min\", \"max\", \"mean\", \"std\"]]"
   ]
  },
  {
   "cell_type": "code",
   "execution_count": 21,
   "metadata": {},
   "outputs": [
    {
     "data": {
      "text/plain": [
       "Counter({'Female': 11, 'Male': 3, nan: 1})"
      ]
     },
     "execution_count": 21,
     "metadata": {},
     "output_type": "execute_result"
    }
   ],
   "source": [
    "from collections import Counter\n",
    "Counter(participants['Gender'])"
   ]
  },
  {
   "cell_type": "markdown",
   "metadata": {},
   "source": [
    "## Experiment Questionnaire"
   ]
  },
  {
   "cell_type": "code",
   "execution_count": 22,
   "metadata": {},
   "outputs": [],
   "source": [
    "import os\n",
    "if not os.path.isdir(\"figures\"):\n",
    "    os.mkdir(\"figures\")"
   ]
  },
  {
   "cell_type": "code",
   "execution_count": 2,
   "metadata": {},
   "outputs": [
    {
     "data": {
      "text/plain": [
       "['CALIBRIB.TTF',\n",
       " 'CALIBRII.TTF',\n",
       " 'CALIBRIZ.TTF',\n",
       " 'Calibri.ttf',\n",
       " 'Carlito-Bold.ttf',\n",
       " 'Carlito-BoldItalic.ttf',\n",
       " 'Carlito-Italic.ttf',\n",
       " 'Carlito-Regular.ttf',\n",
       " 'DejaVuSans-Bold.ttf',\n",
       " 'DejaVuSans-BoldOblique.ttf',\n",
       " 'DejaVuSans-Oblique.ttf',\n",
       " 'DejaVuSans.ttf',\n",
       " 'DejaVuSansDisplay.ttf',\n",
       " 'DejaVuSansMono-Bold.ttf',\n",
       " 'DejaVuSansMono-BoldOblique.ttf',\n",
       " 'DejaVuSansMono-Oblique.ttf',\n",
       " 'DejaVuSansMono.ttf',\n",
       " 'DejaVuSerif-Bold.ttf',\n",
       " 'DejaVuSerif-BoldItalic.ttf',\n",
       " 'DejaVuSerif-Italic.ttf',\n",
       " 'DejaVuSerif.ttf',\n",
       " 'DejaVuSerifDisplay.ttf',\n",
       " 'STIXGeneral.ttf',\n",
       " 'STIXGeneralBol.ttf',\n",
       " 'STIXGeneralBolIta.ttf',\n",
       " 'STIXGeneralItalic.ttf',\n",
       " 'STIXNonUni.ttf',\n",
       " 'STIXNonUniBol.ttf',\n",
       " 'STIXNonUniBolIta.ttf',\n",
       " 'STIXNonUniIta.ttf',\n",
       " 'STIXSizFiveSymReg.ttf',\n",
       " 'STIXSizFourSymBol.ttf',\n",
       " 'STIXSizFourSymReg.ttf',\n",
       " 'STIXSizOneSymBol.ttf',\n",
       " 'STIXSizOneSymReg.ttf',\n",
       " 'STIXSizThreeSymBol.ttf',\n",
       " 'STIXSizThreeSymReg.ttf',\n",
       " 'STIXSizTwoSymBol.ttf',\n",
       " 'STIXSizTwoSymReg.ttf',\n",
       " 'cmb10.ttf',\n",
       " 'cmex10.ttf',\n",
       " 'cmmi10.ttf',\n",
       " 'cmr10.ttf',\n",
       " 'cmss10.ttf',\n",
       " 'cmsy10.ttf',\n",
       " 'cmtt10.ttf']"
      ]
     },
     "execution_count": 2,
     "metadata": {},
     "output_type": "execute_result"
    }
   ],
   "source": [
    "from matplotlib import font_manager\n",
    "\n",
    "l = font_manager.findSystemFonts(fontpaths=p, fontext=\"ttf\")\n",
    "sorted([x.replace(p, \"\") for x in l])"
   ]
  },
  {
   "cell_type": "markdown",
   "metadata": {},
   "source": [
    "### Likert scales"
   ]
  },
  {
   "cell_type": "code",
   "execution_count": 125,
   "metadata": {},
   "outputs": [
    {
     "data": {
      "image/png": "[encoded data removed]",
      "text/plain": [
       "<Figure size 216x230.4 with 1 Axes>"
      ]
     },
     "metadata": {},
     "output_type": "display_data"
    },
    {
     "data": {
      "image/png": "[encoded data removed]",
      "text/plain": [
       "<Figure size 216x50.4 with 1 Axes>"
      ]
     },
     "metadata": {},
     "output_type": "display_data"
    },
    {
     "data": {
      "image/png": "[encoded data removed]",
      "text/plain": [
       "<Figure size 216x86.4 with 1 Axes>"
      ]
     },
     "metadata": {},
     "output_type": "display_data"
    }
   ],
   "source": [
    "import pandas as pd\n",
    "import matplotlib.pyplot as plt\n",
    "\n",
    "def reformat_question(question, title):\n",
    "    question = question.replace(\" [-]\", \"\").replace(EXP_PREFIX, \"\").replace(\"...\", \"\").replace(\"[\", \"\").replace(\"]\", \"\")\n",
    "    question = question.replace(\"If the tool is provided to you, how often do you think you will make use of it?\", \"Will you use CARE?\")\n",
    "    question = question.replace(\"suggested strategies (blue hints)\", \"strategies\")\n",
    "    question = question.replace(\"example responses (white buttons)\", \"examples\")\n",
    "    question = question.replace(\" suit the situation\", \" suit situations\")\n",
    "    question = question.replace(\" fit the conversation topic\", \" fit topics\")\n",
    "    question = question.replace(\" to use\", \"\")\n",
    "    question = question.replace(\" on 7 Cups\", \"\")\n",
    "    question = question.replace(title.replace(\"...\", \"\"), \"\")\n",
    "    return question\n",
    "\n",
    "def plot_responses(cols, options, title, filename, show_legend=True, legend_anchor=(1.1, 1.0)):\n",
    "    cols = cols[::-1]\n",
    "    count_df = pd.DataFrame(data={}, columns=options)\n",
    "    for option in options:\n",
    "        count_df[option] = (participants[cols] == option).sum()\n",
    "\n",
    "    count_df.plot(\n",
    "        kind='barh', \n",
    "        stacked=True, \n",
    "        cmap=\"RdYlGn\",\n",
    "        width=0.6,\n",
    "        figsize=(3, 0.5 * len(cols) + 0.2),\n",
    "        xlim=(0, 15),\n",
    "        legend=show_legend,\n",
    "    )\n",
    "    plt.yticks(range(0,len(count_df.index)), list(map(lambda x: reformat_question(x, title).replace(\"?\", \"\"), count_df.index))) # not working dunno why\n",
    "    plt.xlabel('Response Counts')\n",
    "    title = title.replace(\"the tool\", \"CARE\").replace(\"This tool\", \"CARE\")\n",
    "    if \"how often did the\" not in title.lower():\n",
    "        plt.title(title)\n",
    "    if show_legend:\n",
    "        plt.legend(loc=\"upper left\", bbox_to_anchor=legend_anchor)\n",
    "    # plt.vlines(x=7.5, ymin=-1, ymax=len(count_df)-0.5, color='darkgrey', linestyles='dashed')  # dashed median line\n",
    "    plt.savefig(\"figures/\" + filename + \".svg\")\n",
    "\n",
    "plot_responses(freq_cols + use_cols, FREQ_OPTIONS, \"How often did the...\", \"tool-quality\")\n",
    "plot_responses(harmful_cols, FREQ_OPTIONS[::-1], 'How often did the...', \"harmful\")\n",
    "plot_responses(agree_cols, AGREE_OPTIONS, \"As a whole, was the tool...\", \"was-the-tool\", legend_anchor=(0.05, -0.6))\n",
    "# plot_responses(use_cols, FREQ_OPTIONS, \"If the tool is provided to you, how often do you think you will make use of it?\", \"make-use\")\n",
    "# plot_responses(prob_cols, PROB_OPTIONS, \"If you can switch the tool on and off as you like, will you switch it on?\", \"switch\")"
   ]
  },
  {
   "cell_type": "markdown",
   "metadata": {},
   "source": [
    "### Checkboxes"
   ]
  },
  {
   "cell_type": "code",
   "execution_count": 156,
   "metadata": {},
   "outputs": [
    {
     "data": {
      "image/png": "[encoded data removed]",
      "text/plain": [
       "<Figure size 144x158.4 with 1 Axes>"
      ]
     },
     "metadata": {},
     "output_type": "display_data"
    }
   ],
   "source": [
    "from collections import Counter\n",
    "from matplotlib.pyplot import figure\n",
    "\n",
    "def get_default_option_count(col):\n",
    "    flattened_selections = [b for a in participants[col].apply(lambda x: x.split(\", \")) for b in a]\n",
    "    flattened_selections = list(map(lambda x: \"None of the above\" if \"none\" in x.lower() else x, flattened_selections))\n",
    "    counts = list(Counter(flattened_selections).items())\n",
    "    counts.sort(key=lambda x: x[1])\n",
    "    counts = list(filter(lambda x: x[0] == \"None of the above\" or x[1] > 1, counts))\n",
    "    count_df = pd.DataFrame(data=counts, columns=[\"Selection\", \"Count\"])\n",
    "    return count_df\n",
    "\n",
    "def transform_ckbx1(text):\n",
    "    text = text.replace(\" the overall quality of your responses\", \" quality\")\n",
    "    text = text.replace(\" listeners of counseling\", \"\")\n",
    "    text = text.replace(\" better\", \"\")\n",
    "    text = text.replace(\" listeners'\", \"\")\n",
    "    text = text.replace(\" decision\", \"\")\n",
    "    text = text.replace(\" of the above\", \"\")\n",
    "    return text\n",
    "def transform_ckbx2(text):\n",
    "    text = text.replace(\" the overall quality of your responses\", \" quality\")\n",
    "    text = text.replace(\" in listener-member communication\", \"\")\n",
    "    text = text.replace(\" the diversity of\", \"\")\n",
    "    text = text.replace(\" more\", \"\")\n",
    "    text = text.replace(\" examples\", \"\")\n",
    "    text = text.replace(\" the variety of counseling\", \"\")\n",
    "    text = text.replace(\" of the above\", \"\")\n",
    "    return text\n",
    "\n",
    "def transform_ckbx3(text):\n",
    "    text = text.replace(\"the Listener is newer to Listening chats\", \"newer\")\n",
    "    text = text.replace(\"the Listener feels more stressed\", \"stressed\")\n",
    "    text = text.replace(\"the Listener is less confident in the chat's category\", \"unconfident\")\n",
    "    text = text.replace(\"the Listener is less familiar with the Member's chief complaint\", \"unfamilar\")\n",
    "    text = text.replace(\"the Member is less communicative\", \"uncommunicative\")\n",
    "    text = text.replace(\" of the above\", \"\")\n",
    "    return text\n",
    "\n",
    "def plot_checkboxes(col, color, filename, transform):\n",
    "    count_df = get_default_option_count(col)\n",
    "    fig, ax = plt.subplots()\n",
    "    fig.set_size_inches(2, len(count_df) * 0.2 + 1)\n",
    "    count_df[\"Selection_\"] = count_df[\"Selection\"].apply(lambda x: transform(x))\n",
    "    ax.barh(\n",
    "        width=count_df[\"Count\"],\n",
    "        y=count_df[\"Selection_\"],\n",
    "        color=color,\n",
    "    )\n",
    "    for i, x in enumerate(count_df[\"Count\"]):\n",
    "        # plt.text(x, i, \" {} ({:.0f}%)\".format(x, x / NUM_PARTICIPANTS * 100))\n",
    "        plt.text(x, i, \" {}\".format(x))\n",
    "    plt.xlim(0, 15)\n",
    "    plt.hlines(y=-1, xmin=0, xmax=15, color='darkgrey') # x = 0\n",
    "    plt.vlines(x=15, ymin=-1, ymax=len(count_df)-0.5, color='darkgrey') # x = 0\n",
    "    plt.vlines(x=7.5, ymin=-1, ymax=len(count_df)-0.5, color='snow', linestyles='dashed')  # dashed median line\n",
    "    plt.xlabel('Response Counts')\n",
    "    plt.title(reformat_question(col, \"\"), loc='right')\n",
    "    plt.savefig(\"figures/\" + filename + \".svg\")\n",
    "\n",
    "# plot_checkboxes(\"EXP_What do you like about the tool?\", \"green\", \"like\", transform_ckbx1)\n",
    "# plot_checkboxes(\"EXP_What do you dislike about the tool?\", \"brown\", \"dislike\", transform_ckbx2)\n",
    "plot_checkboxes(\"EXP_This tool helps more when...\", \"green\", \"helps-more\", transform_ckbx3)"
   ]
  },
  {
   "cell_type": "markdown",
   "metadata": {},
   "source": [
    "### Open Questions"
   ]
  },
  {
   "cell_type": "code",
   "execution_count": 25,
   "metadata": {},
   "outputs": [
    {
     "name": "stdout",
     "output_type": "stream",
     "text": [
      "#################### EXP_What do you like about the tool? ####################\n",
      "P11 while the suggestions helpful for exactly what to say in the chat, they do include topics that may be useful to talk\n",
      "\n",
      "#################### EXP_What do you dislike about the tool? ####################\n",
      "P2 Low quality\n",
      "P6 Makes me compare my natural responses which is distracting\n",
      "P10 The tool did not have responses that were relevant to the conversation.\n",
      "P11 suggestions are too simplistic, don't make sense in the context of the conversation, or sometimes just don't make sense in general\n",
      "P13 Examples are too general and not very helpful in most cases.\n",
      "\n",
      "#################### EXP_This tool helps more when... ####################\n",
      "P12 Moderation for everything. Some of the responses lagged. Like they would be in response to a former reply rather than the current one. The responses can be good, but ultimately you have to judge if it's right time for some of said responses for example. Some of the replies would not have been good as you would've been affirming thoughts that shouldn't be affirmed. Like for example, you could've made them more sad, upset, or anxious. But the wording for the suggestions was quite natural and full of emotion, like a human's. It also helped remind me of the listener strategies. Good for that.  \n",
      "P13 None of these answers are relevant to me.  \n",
      "\n",
      "#################### EXP_Any other comments? ####################\n",
      "P4 I have done over 500 chats without a tool like this and have done very well.  This tool made me feel worse as a listener and I am afraid that my chats would suffer due to this tool.  I didn't like it.  There was too much disruption on what I was reading and it interfered with the relationship with the member.  I will not be using this tool.\n",
      "P6 the responses are too generic for me to use. it does not feel natural. sometimes they inspire me though and I can take what it says and modify it.\n",
      "P7 Not sure if this is part of the strategy but providing prompts when there are long pauses may also be a good idea - just a thought. I truly enjoyed this tool and hope it does get rolled out on 7 Cups!\n",
      "P13 The tool needs a lot more work before it is released.  \n",
      "P14 the tool did help me but distracted me more and made me feel im late in responding while i read options \n",
      "P15 I think it's super helpful but just needs some tweaking and development to match ongoing chats.\n",
      "\n"
     ]
    }
   ],
   "source": [
    "for col in open_cols:\n",
    "    print(\"#\" * 20 + \" \" + col + \" \" + \"#\" * 20)\n",
    "    default_options = set(get_default_option_count(col)[\"Selection\"].tolist()) if \"comments\" not in col else set()\n",
    "    for i, row in participants.iterrows():\n",
    "        open_response = \", \".join(list(filter(lambda x: x not in default_options, row[col].split(\", \") if type(row[col]) != float else [])))\n",
    "        if len(open_response) == 0: continue\n",
    "        print(row[\"P\"], open_response)\n",
    "    print()"
   ]
  },
  {
   "attachments": {},
   "cell_type": "markdown",
   "metadata": {},
   "source": [
    "## Chat Questionnaire Open-Eneded Responses"
   ]
  },
  {
   "cell_type": "code",
   "execution_count": 26,
   "metadata": {},
   "outputs": [
    {
     "data": {
      "text/plain": [
       "Index(['chat_id', 'datetime', 'filename_prefix', 'num_utterances', 'span',\n",
       "       '# utterances', '# L utterances', '# M utterances',\n",
       "       'avg_l_response_time', 'med_l_response_time', 'avg_m_response_time',\n",
       "       'med_m_response_time', '# predictions', '# utterances with predictions',\n",
       "       '# example clicks', '# utterances with example clicks',\n",
       "       'per index click counts', 'show tool span', 'hide tool span',\n",
       "       'tool span', 'Edit Distances', 'Min Edit Distance', 'Inference Times',\n",
       "       '% of utterances with predictions',\n",
       "       '% of utterances with example clicks',\n",
       "       '% of L utterances with example clicks', '% tool span',\n",
       "       '% show tool span', '% hide tool span', 'Category Chosen', 'user_id',\n",
       "       'Category Confidence', 'Choose Anxiety', 'Order', 'Show Suggestions',\n",
       "       'Timestamp',\n",
       "       'How familiar are you with actively listening given this Member's chief complaint (the issue that brings the Member here)? (10: Very familiar)',\n",
       "       'Throughout the chat, how communicative was the Member to you? (10: Very communicative)',\n",
       "       'Throughout the chat, how did you feel? (10: very relaxed)',\n",
       "       'Throughout the chat, how easy was it to respond to the Member? (10: very easy)',\n",
       "       'Throughout the chat, how confident were you about how to respond to the Member? (10: very confident)',\n",
       "       'Throughout the chat, how helpful do you think your responses to the Member were? (10: very helpful)',\n",
       "       'Any other comments?'],\n",
       "      dtype='object')"
      ]
     },
     "execution_count": 26,
     "metadata": {},
     "output_type": "execute_result"
    }
   ],
   "source": [
    "chats.columns"
   ]
  },
  {
   "cell_type": "code",
   "execution_count": 27,
   "metadata": {},
   "outputs": [
    {
     "name": "stdout",
     "output_type": "stream",
     "text": [
      "P4\t0\tI preferred this chat format without the open, closed and support questions that were suggested.  I like to have a free flowing chat and those questions threw my train of thought off and made me feel like the computer was trying to tell me what to say and not me.  The purpose of 7Cups is to have a client and a listener and the computer questions are nowhere the same as what a listener would say.  The questions were a bit robotic to me and took away the personal interaction between a listener and a member.\n",
      "P7\t0\tIt was a short amount of time - I usually take about 15 minutes \"warming up\" to understand the member better, so jumping right in is not exactly the same as a real-time chat with a first-time member-listener experience. :) \n",
      "P7\t1\tLoved the suggestions - very innovative and it would be super helpful for newer listeners in my opinion. I've also encountered some difficult situations even as an experienced listener, so if this algorithm works in all topic scenarios, it would be incredibly helpful for all listeners.\n",
      "P11\t1\tNormally I spend the first 30-60 minutes listening to them and learning about them (depending on their response speed), and this can help with them feeling validated. Only after I feel like I have enough important points to their story do I start trying to guide them to think of solutions to their problems.\n",
      "P8\t0\tIt took me a while formulating the responses to the member, and even then I feel like we're hitting the dead end soon if I don't steer it another way, so I have to be very alert. The member wasn't as communicative because they didn't want to give too much details, so it was a bit hard to work with.\n",
      "P8\t1\tThis member is a lot more communicative than the last so it's hard for me to compare fully, because my rating for the above questions change mainly because of how communicative the member was. The assistance box was very helpful at the beginning with reflecting and sympathizing with the member, I doubt I could have come up with those responses myself. But later on into the chat, the AI wasn't as adaptive to personalize the response and sometimes the suggestions disrupt the flow of the chat. At the same time the wording of the AI assistance was a bit colder, again not personalized. I try to refrain from using the Closed Question category because for some members, especially the not too communicative ones, that can really put an early end to the convo. But all in all, it was a nice addition and made my first few responses a lot quicker.\n",
      "P10\t1\tI feel as though the automated responses were not specific enough to fit the situation at hand. I did use an example maybe one time to help me write a response. I worry that a new Listener would use the prompts and they wouldn't be applicable to the message previously sent.\n",
      "P10\t0\tI feel as though the member was not very communicative with their issue. I tried asking a lot of open ended questions, but it was hard to understand what the member was having an issue with. \n",
      "P13\t1\tThe chat examples were not very helpful.  They were too broad and didn't accurately address the person's needs and concerns.  The examples need A LOT MORE WORK!\n",
      "P14\t1\tI felt a bit stressed i was confused as what to repy , sometimes the suggestion diverted me from thinking straight , kind of distracted me , other times it did help \n",
      "P15\t0\tI think that though I haven't encountered this particular issue before in listening, it is a common issue with teens though mostly their relationships would have actually initiated online.\n",
      "P15\t1\tThe guides were helpful but I think that in some cases, it wasn't reading the conversation just right so might need a little tweaking!\n"
     ]
    }
   ],
   "source": [
    "for _, (user_id, is_shown, comment) in chats[[\"user_id\", 'Show Suggestions', \"Any other comments?\"]].iterrows():\n",
    "    if pd.notna(comment):\n",
    "        part_row = participants[participants[\"user_id\"] == user_id].iloc[0]\n",
    "        print(part_row[\"P\"], end=\"\\t\")\n",
    "        print(is_shown, end=\"\\t\")\n",
    "        print(comment)"
   ]
  },
  {
   "attachments": {},
   "cell_type": "markdown",
   "metadata": {},
   "source": [
    "## Compare logs at chat level"
   ]
  },
  {
   "cell_type": "code",
   "execution_count": 28,
   "metadata": {},
   "outputs": [
    {
     "data": {
      "text/plain": [
       "Index(['chat_id', 'datetime', 'filename_prefix', 'num_utterances', 'span',\n",
       "       '# utterances', '# L utterances', '# M utterances',\n",
       "       'avg_l_response_time', 'med_l_response_time', 'avg_m_response_time',\n",
       "       'med_m_response_time', '# predictions', '# utterances with predictions',\n",
       "       '# example clicks', '# utterances with example clicks',\n",
       "       'per index click counts', 'show tool span', 'hide tool span',\n",
       "       'tool span', 'Edit Distances', 'Min Edit Distance', 'Inference Times',\n",
       "       '% of utterances with predictions',\n",
       "       '% of utterances with example clicks',\n",
       "       '% of L utterances with example clicks', '% tool span',\n",
       "       '% show tool span', '% hide tool span', 'Category Chosen', 'user_id',\n",
       "       'Category Confidence', 'Choose Anxiety', 'Order', 'Show Suggestions',\n",
       "       'Timestamp',\n",
       "       'How familiar are you with actively listening given this Member's chief complaint (the issue that brings the Member here)? (10: Very familiar)',\n",
       "       'Throughout the chat, how communicative was the Member to you? (10: Very communicative)',\n",
       "       'Throughout the chat, how did you feel? (10: very relaxed)',\n",
       "       'Throughout the chat, how easy was it to respond to the Member? (10: very easy)',\n",
       "       'Throughout the chat, how confident were you about how to respond to the Member? (10: very confident)',\n",
       "       'Throughout the chat, how helpful do you think your responses to the Member were? (10: very helpful)',\n",
       "       'Any other comments?'],\n",
       "      dtype='object')"
      ]
     },
     "execution_count": 28,
     "metadata": {},
     "output_type": "execute_result"
    }
   ],
   "source": [
    "tool_chats = chats[chats[\"Show Suggestions\"] > 0.5]\n",
    "no_tool_chats = chats[chats[\"Show Suggestions\"] < 0.5]\n",
    "chats.columns"
   ]
  },
  {
   "cell_type": "code",
   "execution_count": 29,
   "metadata": {},
   "outputs": [
    {
     "data": {
      "text/plain": [
       "15.784018233333335"
      ]
     },
     "execution_count": 29,
     "metadata": {},
     "output_type": "execute_result"
    }
   ],
   "source": [
    "tool_chats['span'].median() / 60"
   ]
  },
  {
   "cell_type": "code",
   "execution_count": 30,
   "metadata": {},
   "outputs": [
    {
     "data": {
      "text/plain": [
       "(30.0, 17.0, 0.5625, 14.0, 0.4375)"
      ]
     },
     "execution_count": 30,
     "metadata": {},
     "output_type": "execute_result"
    }
   ],
   "source": [
    "tool_chats['# utterances'].median(), tool_chats['# L utterances'].median(), (tool_chats['# L utterances'] / tool_chats['# utterances']).median(), tool_chats['# M utterances'].median(), (tool_chats['# M utterances'] / tool_chats['# utterances']).median()"
   ]
  },
  {
   "cell_type": "code",
   "execution_count": 31,
   "metadata": {},
   "outputs": [
    {
     "data": {
      "text/plain": [
       "84.375"
      ]
     },
     "execution_count": 31,
     "metadata": {},
     "output_type": "execute_result"
    }
   ],
   "source": [
    "tool_chats['% of utterances with predictions'].median()"
   ]
  },
  {
   "cell_type": "code",
   "execution_count": 32,
   "metadata": {},
   "outputs": [
    {
     "data": {
      "text/plain": [
       "41.17647058823529"
      ]
     },
     "execution_count": 32,
     "metadata": {},
     "output_type": "execute_result"
    }
   ],
   "source": [
    "(tool_chats['% of L utterances with example clicks']).median()"
   ]
  },
  {
   "cell_type": "code",
   "execution_count": 33,
   "metadata": {},
   "outputs": [
    {
     "data": {
      "text/plain": [
       "count     15.000000\n",
       "mean      93.194699\n",
       "std       23.376498\n",
       "min        9.368468\n",
       "25%      100.000000\n",
       "50%      100.000000\n",
       "75%      100.000000\n",
       "max      100.000000\n",
       "Name: % show tool span, dtype: float64"
      ]
     },
     "execution_count": 33,
     "metadata": {},
     "output_type": "execute_result"
    }
   ],
   "source": [
    "tool_chats['% show tool span'].describe()"
   ]
  },
  {
   "cell_type": "code",
   "execution_count": 34,
   "metadata": {},
   "outputs": [
    {
     "data": {
      "text/plain": [
       "WilcoxonResult(statistic=40.0, pvalue=0.27685546875)"
      ]
     },
     "execution_count": 34,
     "metadata": {},
     "output_type": "execute_result"
    }
   ],
   "source": [
    "from scipy.stats import wilcoxon\n",
    "y_colunms = ['avg_l_response_time', 'med_l_response_time']\n",
    "y = y_colunms[1]\n",
    "wilcoxon(tool_chats[y], no_tool_chats[y], alternative=\"two-sided\")"
   ]
  },
  {
   "attachments": {},
   "cell_type": "markdown",
   "metadata": {},
   "source": [
    "Edit distance"
   ]
  },
  {
   "cell_type": "code",
   "execution_count": 35,
   "metadata": {},
   "outputs": [
    {
     "name": "stdout",
     "output_type": "stream",
     "text": [
      "254 216\n",
      "46.0 51.0\n"
     ]
    },
    {
     "data": {
      "text/plain": [
       "MannwhitneyuResult(statistic=23242.5, pvalue=0.0021449100038206307)"
      ]
     },
     "execution_count": 35,
     "metadata": {},
     "output_type": "execute_result"
    }
   ],
   "source": [
    "from scipy.stats import mannwhitneyu\n",
    "\n",
    "def parse_string_to_list(string, item_type):\n",
    "    return [item_type(x) for x in string.replace(\"[\", \"\").replace(\"]\", \"\").split(', ')]\n",
    "\n",
    "log_x_columns = [r'% of utterances with predictions',]\n",
    "log_y_columns = [r'% show tool span',]\n",
    "log_flatten_y_columns = ['Edit Distances', 'Min Edit Distance']\n",
    "\n",
    "col = log_flatten_y_columns[1]\n",
    "\n",
    "tool_y = [x for item in tool_chats[col].tolist() for x in parse_string_to_list(item, int)]\n",
    "no_tool_y = [x for item in no_tool_chats[col].tolist() for x in parse_string_to_list(item, int)]\n",
    "\n",
    "print(len(tool_y), len(no_tool_y))\n",
    "print(pd.Series(tool_y).median(), pd.Series(no_tool_y).median())\n",
    "mannwhitneyu(tool_y, no_tool_y, alternative=\"less\")"
   ]
  },
  {
   "attachments": {},
   "cell_type": "markdown",
   "metadata": {},
   "source": [
    "## Compare logs at utterance level"
   ]
  },
  {
   "cell_type": "code",
   "execution_count": 36,
   "metadata": {},
   "outputs": [
    {
     "data": {
      "text/html": [
       "<div>\n",
       "<style scoped>\n",
       "    .dataframe tbody tr th:only-of-type {\n",
       "        vertical-align: middle;\n",
       "    }\n",
       "\n",
       "    .dataframe tbody tr th {\n",
       "        vertical-align: top;\n",
       "    }\n",
       "\n",
       "    .dataframe thead th {\n",
       "        text-align: right;\n",
       "    }\n",
       "</style>\n",
       "<table border=\"1\" class=\"dataframe\">\n",
       "  <thead>\n",
       "    <tr style=\"text-align: right;\">\n",
       "      <th></th>\n",
       "      <th>is_listener</th>\n",
       "      <th>utterance</th>\n",
       "      <th>chat_id</th>\n",
       "      <th>is_tool_hidden</th>\n",
       "      <th>num_preds</th>\n",
       "      <th>preds</th>\n",
       "      <th>num_pred_clicks</th>\n",
       "      <th>last_clicked_pred</th>\n",
       "      <th>response_time_s</th>\n",
       "      <th>Show Suggestions</th>\n",
       "    </tr>\n",
       "  </thead>\n",
       "  <tbody>\n",
       "    <tr>\n",
       "      <th>795</th>\n",
       "      <td>False</td>\n",
       "      <td>Hello!</td>\n",
       "      <td>uau</td>\n",
       "      <td>NaN</td>\n",
       "      <td>0</td>\n",
       "      <td>[]</td>\n",
       "      <td>0</td>\n",
       "      <td>NaN</td>\n",
       "      <td>NaN</td>\n",
       "      <td>1</td>\n",
       "    </tr>\n",
       "  </tbody>\n",
       "</table>\n",
       "</div>"
      ],
      "text/plain": [
       "     is_listener utterance chat_id is_tool_hidden  num_preds preds  \\\n",
       "795        False    Hello!     uau            NaN          0    []   \n",
       "\n",
       "     num_pred_clicks last_clicked_pred  response_time_s  Show Suggestions  \n",
       "795                0               NaN              NaN                 1  "
      ]
     },
     "execution_count": 36,
     "metadata": {},
     "output_type": "execute_result"
    }
   ],
   "source": [
    "utter_df = pd.read_csv(LOG_PATH + \"_utter.csv\")\n",
    "# Join with whether the utterance belongs to a show_suggestion chat\n",
    "utter_df[\"Show Suggestions\"] = [chats[chats[\"chat_id\"] == utter_df[\"chat_id\"].iloc[i]].iloc[0][\"Show Suggestions\"] for i in range(len(utter_df))]\n",
    "utter_df = utter_df[utter_df.notna()]\n",
    "\n",
    "utter_df.sample()"
   ]
  },
  {
   "cell_type": "code",
   "execution_count": 37,
   "metadata": {},
   "outputs": [
    {
     "name": "stdout",
     "output_type": "stream",
     "text": [
      "Total number of utterances: 926\n",
      "From Listener: 470 0.5075593952483801\n",
      "From Member: 456 0.4924406047516199\n"
     ]
    }
   ],
   "source": [
    "listener_mask = utter_df[\"is_listener\"]\n",
    "print(\"Total number of utterances:\", len(utter_df))\n",
    "print(\"From Listener:\", sum(listener_mask), sum(listener_mask) / len(utter_df))\n",
    "print(\"From Member:\", sum(~listener_mask), sum(~listener_mask) / len(utter_df))"
   ]
  },
  {
   "attachments": {},
   "cell_type": "markdown",
   "metadata": {},
   "source": [
    "AI assistance"
   ]
  },
  {
   "cell_type": "code",
   "execution_count": 38,
   "metadata": {},
   "outputs": [
    {
     "data": {
      "text/plain": [
       "(721, 0.7786177105831533)"
      ]
     },
     "execution_count": 38,
     "metadata": {},
     "output_type": "execute_result"
    }
   ],
   "source": [
    "provide_mask = utter_df[\"num_preds\"] > 0\n",
    "len(utter_df[provide_mask]), len(utter_df[provide_mask]) / len(utter_df)"
   ]
  },
  {
   "attachments": {},
   "cell_type": "markdown",
   "metadata": {},
   "source": [
    "Compare response times: \n",
    "- A: shown but not clicked\n",
    "- B: shown and clicked\n",
    "- C: not shown"
   ]
  },
  {
   "cell_type": "code",
   "execution_count": 39,
   "metadata": {},
   "outputs": [
    {
     "name": "stdout",
     "output_type": "stream",
     "text": [
      "124 37.5732565\n",
      "75 25.121201\n",
      "264 26.303442\n",
      "MannwhitneyuResult(statistic=5490.0, pvalue=0.01648977615365982)\n",
      "MannwhitneyuResult(statistic=9926.0, pvalue=0.4864204642017168)\n"
     ]
    },
    {
     "data": {
      "text/plain": [
       "(12.4520555, 0.331407406754855)"
      ]
     },
     "execution_count": 39,
     "metadata": {},
     "output_type": "execute_result"
    }
   ],
   "source": [
    "from scipy.stats import mannwhitneyu\n",
    "show_mask = ~utter_df[\"is_tool_hidden\"].astype(bool) & (utter_df[\"Show Suggestions\"] == 1) & (utter_df[\"num_preds\"] > 0)\n",
    "clicked_mask = utter_df[\"num_pred_clicks\"] > 0\n",
    "A = utter_df[listener_mask & show_mask & ~clicked_mask][\"response_time_s\"]\n",
    "B = utter_df[listener_mask & show_mask & clicked_mask][\"response_time_s\"]\n",
    "C = utter_df[listener_mask & ~show_mask][\"response_time_s\"]\n",
    "\n",
    "def print_var(y):\n",
    "    x = y[y.notna()]\n",
    "    print(len(x), x.median())\n",
    "print_var(A)\n",
    "print_var(B)\n",
    "print_var(C)\n",
    "\n",
    "def compare_mw(a, b, alt):\n",
    "    print(mannwhitneyu(a[a.notna()], b[b.notna()], alternative=alt))\n",
    "\n",
    "compare_mw(A, B, \"greater\")\n",
    "compare_mw(B, C, \"greater\")\n",
    "(A.median() - B.median()), (A.median() - B.median()) / A.median()"
   ]
  },
  {
   "attachments": {},
   "cell_type": "markdown",
   "metadata": {},
   "source": [
    "click through rate"
   ]
  },
  {
   "cell_type": "code",
   "execution_count": 40,
   "metadata": {},
   "outputs": [
    {
     "data": {
      "text/plain": [
       "(75, 199, 0.3768844221105528)"
      ]
     },
     "execution_count": 40,
     "metadata": {},
     "output_type": "execute_result"
    }
   ],
   "source": [
    "len(utter_df[listener_mask & show_mask & clicked_mask]), len(utter_df[listener_mask & show_mask]), len(utter_df[listener_mask & show_mask & clicked_mask]) / len(utter_df[listener_mask & show_mask])"
   ]
  },
  {
   "attachments": {},
   "cell_type": "markdown",
   "metadata": {},
   "source": [
    "chat level click through rate"
   ]
  },
  {
   "cell_type": "code",
   "execution_count": 41,
   "metadata": {},
   "outputs": [
    {
     "data": {
      "text/plain": [
       "0.4666666666666667"
      ]
     },
     "execution_count": 41,
     "metadata": {},
     "output_type": "execute_result"
    }
   ],
   "source": [
    "chat_ctrs = []\n",
    "for chat_id in utter_df[\"chat_id\"]:\n",
    "    chat_mask = utter_df[\"chat_id\"] == chat_id\n",
    "    if sum(chat_mask & listener_mask & show_mask) > 0:\n",
    "        chat_ctr = len(utter_df[chat_mask & listener_mask & show_mask & clicked_mask]) / len(utter_df[chat_mask & listener_mask & show_mask])\n",
    "        chat_ctrs.append(chat_ctr)\n",
    "chat_ctrs = pd.Series(chat_ctrs)\n",
    "chat_ctrs.median()"
   ]
  },
  {
   "attachments": {},
   "cell_type": "markdown",
   "metadata": {},
   "source": [
    "listener chooses to show suggestion"
   ]
  },
  {
   "cell_type": "code",
   "execution_count": 78,
   "metadata": {},
   "outputs": [
    {
     "data": {
      "text/plain": [
       "(340, 0.9090909090909091, 374)"
      ]
     },
     "execution_count": 78,
     "metadata": {},
     "output_type": "execute_result"
    }
   ],
   "source": [
    "exp_show_mask = (utter_df[\"Show Suggestions\"] == 1) & (utter_df[\"num_preds\"] > 0)\n",
    "listener_show_mask = ~utter_df[\"is_tool_hidden\"].astype(bool)\n",
    "len(utter_df[exp_show_mask & listener_show_mask]), len(utter_df[exp_show_mask & listener_show_mask]) / len(utter_df[exp_show_mask]), len(utter_df[exp_show_mask])"
   ]
  },
  {
   "attachments": {},
   "cell_type": "markdown",
   "metadata": {},
   "source": [
    "sent with or without modifications"
   ]
  },
  {
   "cell_type": "code",
   "execution_count": 43,
   "metadata": {},
   "outputs": [
    {
     "data": {
      "text/plain": [
       "(45, 75, 0.6)"
      ]
     },
     "execution_count": 43,
     "metadata": {},
     "output_type": "execute_result"
    }
   ],
   "source": [
    "no_mod_mask = utter_df[\"utterance\"] == utter_df[\"last_clicked_pred\"]\n",
    "len(utter_df[listener_mask & clicked_mask & no_mod_mask]), len(utter_df[listener_mask & clicked_mask]), len(utter_df[listener_mask & clicked_mask & no_mod_mask]) / len(utter_df[listener_mask & clicked_mask])"
   ]
  },
  {
   "cell_type": "code",
   "execution_count": 44,
   "metadata": {},
   "outputs": [
    {
     "data": {
      "text/plain": [
       "32"
      ]
     },
     "execution_count": 44,
     "metadata": {},
     "output_type": "execute_result"
    }
   ],
   "source": [
    "77 - 45"
   ]
  },
  {
   "attachments": {},
   "cell_type": "markdown",
   "metadata": {},
   "source": [
    "length of listener responses with and without seeing/clicking CARE"
   ]
  },
  {
   "cell_type": "code",
   "execution_count": 45,
   "metadata": {},
   "outputs": [
    {
     "name": "stdout",
     "output_type": "stream",
     "text": [
      "199 271\n",
      "77.0 61.0\n"
     ]
    },
    {
     "data": {
      "text/plain": [
       "MannwhitneyuResult(statistic=30820.0, pvalue=0.004027140422707117)"
      ]
     },
     "execution_count": 45,
     "metadata": {},
     "output_type": "execute_result"
    }
   ],
   "source": [
    "from scipy.stats import mannwhitneyu\n",
    "# from nltk.tokenize import word_tokenize\n",
    "see_mask = ~utter_df[\"is_tool_hidden\"].astype(bool) & (utter_df[\"Show Suggestions\"] == 1) & (utter_df[\"num_preds\"] > 0)\n",
    "utter_lens = utter_df[\"utterance\"].apply(lambda x: len(x))\n",
    "print(utter_lens[listener_mask & see_mask].count(), utter_lens[listener_mask & ~see_mask].count())\n",
    "print(utter_lens[listener_mask & see_mask].median(), utter_lens[listener_mask & ~see_mask].median())\n",
    "mannwhitneyu(utter_lens[listener_mask & see_mask], utter_lens[listener_mask & ~see_mask], alternative=\"greater\")"
   ]
  },
  {
   "attachments": {},
   "cell_type": "markdown",
   "metadata": {},
   "source": [
    "edit distances"
   ]
  },
  {
   "cell_type": "code",
   "execution_count": 46,
   "metadata": {},
   "outputs": [],
   "source": [
    "# !pip install python-levenshtein\n",
    "# !pip install pylcs"
   ]
  },
  {
   "cell_type": "code",
   "execution_count": 47,
   "metadata": {},
   "outputs": [
    {
     "data": {
      "text/plain": [
       "count     30.000000\n",
       "mean      65.100000\n",
       "std       48.231017\n",
       "min        4.000000\n",
       "25%       26.750000\n",
       "50%       48.000000\n",
       "75%       95.750000\n",
       "max      171.000000\n",
       "dtype: float64"
      ]
     },
     "execution_count": 47,
     "metadata": {},
     "output_type": "execute_result"
    }
   ],
   "source": [
    "import Levenshtein\n",
    "modified = utter_df[listener_mask & clicked_mask & ~no_mod_mask]\n",
    "edit_distances = pd.Series(modified.apply(lambda x: Levenshtein.distance(x[\"utterance\"], x[\"last_clicked_pred\"]), axis=1))\n",
    "edit_distances.describe()"
   ]
  },
  {
   "cell_type": "code",
   "execution_count": 48,
   "metadata": {},
   "outputs": [
    {
     "data": {
      "text/plain": [
       "count    30.000000\n",
       "mean      0.390682\n",
       "std       0.178063\n",
       "min       0.056180\n",
       "25%       0.249729\n",
       "50%       0.397569\n",
       "75%       0.525000\n",
       "max       0.731959\n",
       "dtype: float64"
      ]
     },
     "execution_count": 48,
     "metadata": {},
     "output_type": "execute_result"
    }
   ],
   "source": [
    "edit_ratios = pd.Series(modified.apply(lambda x: Levenshtein.ratio(x[\"utterance\"], x[\"last_clicked_pred\"]), axis=1))\n",
    "(1 - edit_ratios).describe()"
   ]
  },
  {
   "attachments": {},
   "cell_type": "markdown",
   "metadata": {},
   "source": [
    "lcs"
   ]
  },
  {
   "cell_type": "code",
   "execution_count": 49,
   "metadata": {},
   "outputs": [
    {
     "data": {
      "text/plain": [
       "count     30.000000\n",
       "mean      53.600000\n",
       "std       37.121051\n",
       "min       13.000000\n",
       "25%       27.000000\n",
       "50%       41.500000\n",
       "75%       73.750000\n",
       "max      153.000000\n",
       "dtype: float64"
      ]
     },
     "execution_count": 49,
     "metadata": {},
     "output_type": "execute_result"
    }
   ],
   "source": [
    "import pylcs\n",
    "lcses = pd.Series(modified.apply(lambda x: pylcs.lcs_sequence_length(x[\"utterance\"], x[\"last_clicked_pred\"]), axis=1))\n",
    "lcses.describe()"
   ]
  },
  {
   "cell_type": "code",
   "execution_count": 50,
   "metadata": {},
   "outputs": [
    {
     "data": {
      "text/plain": [
       "count    30.000000\n",
       "mean      0.508817\n",
       "std       0.206391\n",
       "min       0.154762\n",
       "25%       0.347350\n",
       "50%       0.476805\n",
       "75%       0.650376\n",
       "max       1.000000\n",
       "dtype: float64"
      ]
     },
     "execution_count": 50,
     "metadata": {},
     "output_type": "execute_result"
    }
   ],
   "source": [
    "import pylcs\n",
    "lcs_ratios = pd.Series(modified.apply(lambda x: pylcs.lcs_sequence_length(x[\"utterance\"], x[\"last_clicked_pred\"]) / len(x[\"utterance\"]), axis=1))\n",
    "lcs_ratios.describe()"
   ]
  },
  {
   "cell_type": "code",
   "execution_count": 51,
   "metadata": {},
   "outputs": [
    {
     "data": {
      "text/plain": [
       "count    30.000000\n",
       "mean      0.877044\n",
       "std       0.195841\n",
       "min       0.271523\n",
       "25%       0.811669\n",
       "50%       0.992958\n",
       "75%       1.000000\n",
       "max       1.000000\n",
       "dtype: float64"
      ]
     },
     "execution_count": 51,
     "metadata": {},
     "output_type": "execute_result"
    }
   ],
   "source": [
    "# change denominator\n",
    "lcs_ratios = pd.Series(modified.apply(lambda x: pylcs.lcs_sequence_length(x[\"utterance\"], x[\"last_clicked_pred\"]) / len(x[\"last_clicked_pred\"]), axis=1))\n",
    "lcs_ratios.describe()"
   ]
  },
  {
   "attachments": {},
   "cell_type": "markdown",
   "metadata": {},
   "source": [
    "word level"
   ]
  },
  {
   "cell_type": "code",
   "execution_count": 52,
   "metadata": {},
   "outputs": [
    {
     "data": {
      "text/plain": [
       "count    30.000000\n",
       "mean     14.633333\n",
       "std      10.022331\n",
       "min       2.000000\n",
       "25%       6.000000\n",
       "50%      11.500000\n",
       "75%      21.750000\n",
       "max      34.000000\n",
       "dtype: float64"
      ]
     },
     "execution_count": 52,
     "metadata": {},
     "output_type": "execute_result"
    }
   ],
   "source": [
    "from nltk.tokenize import word_tokenize\n",
    "token_pairs = [(word_tokenize(row[\"utterance\"]), word_tokenize(row[\"last_clicked_pred\"])) for _, row in modified.iterrows()]\n",
    "edit_distances = pd.Series([Levenshtein.distance(x[0], x[1]) for x in token_pairs])\n",
    "edit_distances.describe()"
   ]
  },
  {
   "cell_type": "code",
   "execution_count": 53,
   "metadata": {},
   "outputs": [
    {
     "data": {
      "text/plain": [
       "count    30.000000\n",
       "mean      0.456942\n",
       "std       0.221091\n",
       "min       0.142857\n",
       "25%       0.325028\n",
       "50%       0.444138\n",
       "75%       0.547619\n",
       "max       0.913043\n",
       "dtype: float64"
      ]
     },
     "execution_count": 53,
     "metadata": {},
     "output_type": "execute_result"
    }
   ],
   "source": [
    "edit_ratios = pd.Series([Levenshtein.ratio(x[0], x[1]) for x in token_pairs])\n",
    "(1 - edit_ratios).describe()"
   ]
  },
  {
   "cell_type": "markdown",
   "metadata": {},
   "source": [
    "## Compare chat questionnaires"
   ]
  },
  {
   "cell_type": "code",
   "execution_count": 54,
   "metadata": {},
   "outputs": [
    {
     "name": "stderr",
     "output_type": "stream",
     "text": [
      "/Users/shanglinghsu/miniconda3/envs/MI/lib/python3.9/site-packages/scipy/stats/_morestats.py:3145: UserWarning: Exact p-value calculation does not work if there are ties. Switching to normal approximation.\n",
      "  warnings.warn(\"Exact p-value calculation does not work if there are \"\n",
      "/Users/shanglinghsu/miniconda3/envs/MI/lib/python3.9/site-packages/scipy/stats/_morestats.py:3159: UserWarning: Sample size too small for normal approximation.\n",
      "  warnings.warn(\"Sample size too small for normal approximation.\")\n"
     ]
    },
    {
     "data": {
      "text/plain": [
       "{'x': 'Show Suggestions',\n",
       " 'y': \"How familiar are you with actively listening given this Member's chief complaint (the issue that brings the Member here)? (10: Very familiar)\",\n",
       " 'Mann-Whitney U statistic': 21.0,\n",
       " 'p-value': 0.27630291733748347}"
      ]
     },
     "execution_count": 54,
     "metadata": {},
     "output_type": "execute_result"
    }
   ],
   "source": [
    "from itertools import product\n",
    "from scipy.stats import wilcoxon\n",
    "\n",
    "def compare_chats(df):\n",
    "    x_columns = [SHOW_COL, ORDER_COL]  # , CAT_COL: not paired\n",
    "    y_columns = [x for x in df.columns if (\"how\" in x.lower()) and (\"show\" not in x) and (x not in x_columns)]\n",
    "\n",
    "    data = []\n",
    "    for x_col, y_col in product(x_columns, y_columns):\n",
    "        x_values = list(set(df[x_col].tolist()))\n",
    "        x_values.sort()\n",
    "        if len(x_values) != 2: continue  # control binary variables only\n",
    "        a = df[df[x_col] == x_values[0]][y_col]\n",
    "        b = df[df[x_col] == x_values[1]][y_col]\n",
    "        s, p = wilcoxon(a.astype(float), b.astype(float), alternative=\"two-sided\")  # \"less\", \"greater\", \"two-sided\"\n",
    "        data.append((x_col, y_col, s, p))\n",
    "    chat_diff_df = pd.DataFrame(data=data, columns=[\"x\", \"y\", \"Mann-Whitney U statistic\", \"p-value\"])\n",
    "    chat_diff_df = chat_diff_df.sort_values(by=\"p-value\")\n",
    "    return chat_diff_df\n",
    "\n",
    "compare_chats_df = compare_chats(chats)\n",
    "compare_chats_df.loc[0].to_dict()"
   ]
  },
  {
   "cell_type": "markdown",
   "metadata": {},
   "source": [
    "## Correlation between Listeners and Perceptions"
   ]
  },
  {
   "cell_type": "markdown",
   "metadata": {},
   "source": [
    "### Heatmap"
   ]
  },
  {
   "cell_type": "code",
   "execution_count": 55,
   "metadata": {},
   "outputs": [],
   "source": [
    "import seaborn\n",
    "from seaborn import heatmap\n",
    "seaborn.set(rc={'axes.facecolor':'white', 'figure.facecolor':'white', 'figure.figsize':(11, 3)})\n",
    "seaborn.diverging_palette(220, 20, as_cmap=True)\n",
    "\n",
    "def draw_heatmap(correlations, title, x_columns):\n",
    "    corr_matrix = pd.DataFrame(data={}, columns=[\"y\",] + [x.replace(NUM_PREFIX, \"\") for x in x_columns])\n",
    "    corr_matrix.set_index(\"y\")\n",
    "    for x, y, r, p in correlations:\n",
    "        if y not in corr_matrix.index:\n",
    "            corr_matrix.loc[y] = [y] + [0.0] * (len(corr_matrix.columns) - 1)\n",
    "        corr_matrix.loc[y, x] = r\n",
    "    \n",
    "    heatmap(corr_matrix[list(filter(lambda x: x != \"y\", corr_matrix.columns))], yticklabels=corr_matrix[\"y\"], xticklabels=corr_matrix.columns[1:]).set(title=title)\n"
   ]
  },
  {
   "cell_type": "markdown",
   "metadata": {},
   "source": [
    "### Numeric Y"
   ]
  },
  {
   "cell_type": "code",
   "execution_count": 126,
   "metadata": {},
   "outputs": [
    {
     "name": "stderr",
     "output_type": "stream",
     "text": [
      "/var/folders/sh/npz3g13d7xv_cgxh2rjw81_w0000gn/T/ipykernel_7935/994325942.py:2: DeprecationWarning: Please use `spearmanr` from the `scipy.stats` namespace, the `scipy.stats.stats` namespace is deprecated.\n",
      "  from scipy.stats.stats import spearmanr\n"
     ]
    },
    {
     "data": {
      "text/html": [
       "<div>\n",
       "<style scoped>\n",
       "    .dataframe tbody tr th:only-of-type {\n",
       "        vertical-align: middle;\n",
       "    }\n",
       "\n",
       "    .dataframe tbody tr th {\n",
       "        vertical-align: top;\n",
       "    }\n",
       "\n",
       "    .dataframe thead th {\n",
       "        text-align: right;\n",
       "    }\n",
       "</style>\n",
       "<table border=\"1\" class=\"dataframe\">\n",
       "  <thead>\n",
       "    <tr style=\"text-align: right;\">\n",
       "      <th></th>\n",
       "      <th>Variable from Listener profile</th>\n",
       "      <th>Variable from questionnaire response</th>\n",
       "      <th>Spearman correlation coefficient</th>\n",
       "      <th>Two-tailed p-value</th>\n",
       "    </tr>\n",
       "  </thead>\n",
       "  <tbody>\n",
       "    <tr>\n",
       "      <th>0</th>\n",
       "      <td>show_suggestion_first</td>\n",
       "      <td>If you can switch the tool on and off as you l...</td>\n",
       "      <td>-0.537409</td>\n",
       "      <td>0.038828</td>\n",
       "    </tr>\n",
       "    <tr>\n",
       "      <th>1</th>\n",
       "      <td>show_suggestion_first</td>\n",
       "      <td>If the tool is provided to you, how often do y...</td>\n",
       "      <td>-0.521151</td>\n",
       "      <td>0.046356</td>\n",
       "    </tr>\n",
       "    <tr>\n",
       "      <th>2</th>\n",
       "      <td>Listener Since</td>\n",
       "      <td>How often did the example responses (white but...</td>\n",
       "      <td>0.468067</td>\n",
       "      <td>0.078478</td>\n",
       "    </tr>\n",
       "    <tr>\n",
       "      <th>3</th>\n",
       "      <td>Counseling Background</td>\n",
       "      <td>If you can switch the tool on and off as you l...</td>\n",
       "      <td>-0.467964</td>\n",
       "      <td>0.078552</td>\n",
       "    </tr>\n",
       "    <tr>\n",
       "      <th>4</th>\n",
       "      <td>Counseling Background</td>\n",
       "      <td>How often did the example responses (white but...</td>\n",
       "      <td>-0.464826</td>\n",
       "      <td>0.080851</td>\n",
       "    </tr>\n",
       "  </tbody>\n",
       "</table>\n",
       "</div>"
      ],
      "text/plain": [
       "  Variable from Listener profile  \\\n",
       "0          show_suggestion_first   \n",
       "1          show_suggestion_first   \n",
       "2                 Listener Since   \n",
       "3          Counseling Background   \n",
       "4          Counseling Background   \n",
       "\n",
       "                Variable from questionnaire response  \\\n",
       "0  If you can switch the tool on and off as you l...   \n",
       "1  If the tool is provided to you, how often do y...   \n",
       "2  How often did the example responses (white but...   \n",
       "3  If you can switch the tool on and off as you l...   \n",
       "4  How often did the example responses (white but...   \n",
       "\n",
       "   Spearman correlation coefficient  Two-tailed p-value  \n",
       "0                         -0.537409            0.038828  \n",
       "1                         -0.521151            0.046356  \n",
       "2                          0.468067            0.078478  \n",
       "3                         -0.467964            0.078552  \n",
       "4                         -0.464826            0.080851  "
      ]
     },
     "execution_count": 126,
     "metadata": {},
     "output_type": "execute_result"
    },
    {
     "data": {
      "image/png": "[encoded data removed]",
      "text/plain": [
       "<Figure size 792x216 with 2 Axes>"
      ]
     },
     "metadata": {},
     "output_type": "display_data"
    }
   ],
   "source": [
    "import itertools\n",
    "from scipy.stats.stats import spearmanr\n",
    "\n",
    "def compute_num_exp_correlation(df):\n",
    "    x_columns = NUM_COL_PROFILES + [\"Counseling Background\", \"show_suggestion_first\", \"Category Confidence\", \"Participant Index\"]\n",
    "    y_columns = [\n",
    "        'NUM_EXP_How often did the suggested strategies (blue hints)... [help?]', \n",
    "        'NUM_EXP_How often did the example responses (white buttons)... [help?]', \n",
    "        'NUM_EXP_As a whole, was the tool... [helpful?]', \n",
    "        'NUM_EXP_If the tool is provided to you, how often do you think you will make use of it? [-]', \n",
    "        'NUM_EXP_If you can switch the tool on and off as you like, will you switch it on? [-]',\n",
    "    ]\n",
    "\n",
    "    correlations = []\n",
    "    for x, y in itertools.product(x_columns, y_columns):\n",
    "        r, p = spearmanr(df[x], df[y])\n",
    "        correlations.append((x.replace(NUM_PREFIX, \"\"), y.replace(NUM_PREFIX, \"\").replace(EXP_PREFIX, \"\").replace(\" [-]\", \"\").replace(\"...\", \"\").replace(\"[\", \"\").replace(\"]\", \"\"), r, p))  # remove prefixes for readability\n",
    "\n",
    "    draw_heatmap(correlations, \"Spearman's Correlation between listeners' profile attributes and questionnaire responses converted to numerics\", x_columns)\n",
    "\n",
    "    correlations.sort(key=lambda x: x[-1])\n",
    "    correlation_df = pd.DataFrame(data=correlations, columns=[\"Variable from Listener profile\", \"Variable from questionnaire response\", \"Spearman correlation coefficient\", \"Two-tailed p-value\"])\n",
    "    # correlation_df.to_csv(\"profile-questionnaire-numeric.csv\")\n",
    "    return correlation_df\n",
    "\n",
    "df = compute_num_exp_correlation(participants)\n",
    "df.head(5)"
   ]
  },
  {
   "cell_type": "markdown",
   "metadata": {},
   "source": [
    "### Binary Y"
   ]
  },
  {
   "cell_type": "code",
   "execution_count": 84,
   "metadata": {},
   "outputs": [
    {
     "name": "stderr",
     "output_type": "stream",
     "text": [
      "/var/folders/sh/npz3g13d7xv_cgxh2rjw81_w0000gn/T/ipykernel_7935/3663810211.py:2: DeprecationWarning: Please use `spearmanr` from the `scipy.stats` namespace, the `scipy.stats.stats` namespace is deprecated.\n",
      "  from scipy.stats.stats import spearmanr\n"
     ]
    },
    {
     "data": {
      "text/html": [
       "<div>\n",
       "<style scoped>\n",
       "    .dataframe tbody tr th:only-of-type {\n",
       "        vertical-align: middle;\n",
       "    }\n",
       "\n",
       "    .dataframe tbody tr th {\n",
       "        vertical-align: top;\n",
       "    }\n",
       "\n",
       "    .dataframe thead th {\n",
       "        text-align: right;\n",
       "    }\n",
       "</style>\n",
       "<table border=\"1\" class=\"dataframe\">\n",
       "  <thead>\n",
       "    <tr style=\"text-align: right;\">\n",
       "      <th></th>\n",
       "      <th>Variable from Listener profile</th>\n",
       "      <th>Variable from questionnaire response</th>\n",
       "      <th>Spearman correlation coefficient</th>\n",
       "      <th>Two-tailed p-value</th>\n",
       "    </tr>\n",
       "  </thead>\n",
       "  <tbody>\n",
       "    <tr>\n",
       "      <th>0</th>\n",
       "      <td>show_suggestion_first</td>\n",
       "      <td>If you can switch the tool on and off as you l...</td>\n",
       "      <td>-0.661438</td>\n",
       "      <td>0.007244</td>\n",
       "    </tr>\n",
       "    <tr>\n",
       "      <th>1</th>\n",
       "      <td>Counseling Background</td>\n",
       "      <td>How often did the example responses (white but...</td>\n",
       "      <td>-0.507499</td>\n",
       "      <td>0.053468</td>\n",
       "    </tr>\n",
       "    <tr>\n",
       "      <th>2</th>\n",
       "      <td>Counseling Background</td>\n",
       "      <td>If you can switch the tool on and off as you l...</td>\n",
       "      <td>-0.501280</td>\n",
       "      <td>0.056960</td>\n",
       "    </tr>\n",
       "    <tr>\n",
       "      <th>3</th>\n",
       "      <td>Listener Since</td>\n",
       "      <td>How often did the suggested strategies (blue h...</td>\n",
       "      <td>0.440959</td>\n",
       "      <td>0.099916</td>\n",
       "    </tr>\n",
       "    <tr>\n",
       "      <th>4</th>\n",
       "      <td>Listener Since</td>\n",
       "      <td>If the tool is provided to you, how often do y...</td>\n",
       "      <td>0.440959</td>\n",
       "      <td>0.099916</td>\n",
       "    </tr>\n",
       "  </tbody>\n",
       "</table>\n",
       "</div>"
      ],
      "text/plain": [
       "  Variable from Listener profile  \\\n",
       "0          show_suggestion_first   \n",
       "1          Counseling Background   \n",
       "2          Counseling Background   \n",
       "3                 Listener Since   \n",
       "4                 Listener Since   \n",
       "\n",
       "                Variable from questionnaire response  \\\n",
       "0  If you can switch the tool on and off as you l...   \n",
       "1  How often did the example responses (white but...   \n",
       "2  If you can switch the tool on and off as you l...   \n",
       "3  How often did the suggested strategies (blue h...   \n",
       "4  If the tool is provided to you, how often do y...   \n",
       "\n",
       "   Spearman correlation coefficient  Two-tailed p-value  \n",
       "0                         -0.661438            0.007244  \n",
       "1                         -0.507499            0.053468  \n",
       "2                         -0.501280            0.056960  \n",
       "3                          0.440959            0.099916  \n",
       "4                          0.440959            0.099916  "
      ]
     },
     "execution_count": 84,
     "metadata": {},
     "output_type": "execute_result"
    },
    {
     "data": {
      "image/png": "[encoded data removed]",
      "text/plain": [
       "<Figure size 792x216 with 2 Axes>"
      ]
     },
     "metadata": {},
     "output_type": "display_data"
    }
   ],
   "source": [
    "import itertools\n",
    "from scipy.stats.stats import spearmanr\n",
    "\n",
    "def compute_bin_exp_correlation(df):\n",
    "    x_columns = NUM_COL_PROFILES + [\"Counseling Background\", \"show_suggestion_first\", \"Category Confidence\", \"Participant Index\"]\n",
    "    y_columns = [\n",
    "        'BIN_EXP_How often did the suggested strategies (blue hints)... [help?]', \n",
    "        'BIN_EXP_How often did the example responses (white buttons)... [help?]', \n",
    "        'BIN_EXP_As a whole, was the tool... [helpful?]', \n",
    "        'BIN_EXP_If the tool is provided to you, how often do you think you will make use of it? [-]', \n",
    "        'BIN_EXP_If you can switch the tool on and off as you like, will you switch it on? [-]',\n",
    "    ]\n",
    "\n",
    "    correlations = []\n",
    "    for x, y in itertools.product(x_columns, y_columns):\n",
    "        r, p = spearmanr(df[x], df[y])\n",
    "        correlations.append((x.replace(NUM_PREFIX, \"\"), y.replace(BIN_PREFIX, \"\").replace(EXP_PREFIX, \"\").replace(\" [-]\", \"\").replace(\"...\", \"\").replace(\"[\", \"\").replace(\"]\", \"\"), r, p))  # remove prefixes for readability\n",
    "\n",
    "    draw_heatmap(correlations, \"Spearman's Correlation between listeners' attributes and questionnaire responses converted to binaries\", x_columns)\n",
    "\n",
    "    correlations.sort(key=lambda x: x[-1])\n",
    "    correlation_df = pd.DataFrame(data=correlations, columns=[\"Variable from Listener profile\", \"Variable from questionnaire response\", \"Spearman correlation coefficient\", \"Two-tailed p-value\"])\n",
    "    # correlation_df.to_csv(\"profile-questionnaire-binary.csv\")\n",
    "    return correlation_df\n",
    "\n",
    "df = compute_bin_exp_correlation(participants)\n",
    "df.head(5)"
   ]
  },
  {
   "cell_type": "code",
   "execution_count": 58,
   "metadata": {},
   "outputs": [
    {
     "data": {
      "text/html": [
       "<div>\n",
       "<style scoped>\n",
       "    .dataframe tbody tr th:only-of-type {\n",
       "        vertical-align: middle;\n",
       "    }\n",
       "\n",
       "    .dataframe tbody tr th {\n",
       "        vertical-align: top;\n",
       "    }\n",
       "\n",
       "    .dataframe thead th {\n",
       "        text-align: right;\n",
       "    }\n",
       "</style>\n",
       "<table border=\"1\" class=\"dataframe\">\n",
       "  <thead>\n",
       "    <tr style=\"text-align: right;\">\n",
       "      <th></th>\n",
       "      <th>NUM_Listener Since</th>\n",
       "      <th>EXP_As a whole, was the tool... [helpful?]</th>\n",
       "      <th>OBJ_Listener Since</th>\n",
       "      <th>Counseling Background</th>\n",
       "      <th>Chats</th>\n",
       "      <th>People Helped</th>\n",
       "    </tr>\n",
       "  </thead>\n",
       "  <tbody>\n",
       "    <tr>\n",
       "      <th>1</th>\n",
       "      <td>-1853</td>\n",
       "      <td>Agree</td>\n",
       "      <td>2017-12-20</td>\n",
       "      <td>0.0</td>\n",
       "      <td>386</td>\n",
       "      <td>210</td>\n",
       "    </tr>\n",
       "    <tr>\n",
       "      <th>9</th>\n",
       "      <td>-1026</td>\n",
       "      <td>Disagree</td>\n",
       "      <td>2020-03-26</td>\n",
       "      <td>0.0</td>\n",
       "      <td>2279</td>\n",
       "      <td>322</td>\n",
       "    </tr>\n",
       "    <tr>\n",
       "      <th>6</th>\n",
       "      <td>-863</td>\n",
       "      <td>Agree</td>\n",
       "      <td>2020-09-05</td>\n",
       "      <td>0.0</td>\n",
       "      <td>3358</td>\n",
       "      <td>216</td>\n",
       "    </tr>\n",
       "    <tr>\n",
       "      <th>14</th>\n",
       "      <td>-123</td>\n",
       "      <td>Agree</td>\n",
       "      <td>2022-09-15</td>\n",
       "      <td>0.0</td>\n",
       "      <td>25</td>\n",
       "      <td>16</td>\n",
       "    </tr>\n",
       "    <tr>\n",
       "      <th>13</th>\n",
       "      <td>-82</td>\n",
       "      <td>Agree</td>\n",
       "      <td>2022-10-26</td>\n",
       "      <td>0.0</td>\n",
       "      <td>36</td>\n",
       "      <td>12</td>\n",
       "    </tr>\n",
       "    <tr>\n",
       "      <th>11</th>\n",
       "      <td>-55</td>\n",
       "      <td>Agree</td>\n",
       "      <td>2022-11-22</td>\n",
       "      <td>0.0</td>\n",
       "      <td>34</td>\n",
       "      <td>4</td>\n",
       "    </tr>\n",
       "  </tbody>\n",
       "</table>\n",
       "</div>"
      ],
      "text/plain": [
       "    NUM_Listener Since EXP_As a whole, was the tool... [helpful?]  \\\n",
       "1                -1853                                      Agree   \n",
       "9                -1026                                   Disagree   \n",
       "6                 -863                                      Agree   \n",
       "14                -123                                      Agree   \n",
       "13                 -82                                      Agree   \n",
       "11                 -55                                      Agree   \n",
       "\n",
       "   OBJ_Listener Since  Counseling Background  Chats  People Helped  \n",
       "1          2017-12-20                    0.0    386            210  \n",
       "9          2020-03-26                    0.0   2279            322  \n",
       "6          2020-09-05                    0.0   3358            216  \n",
       "14         2022-09-15                    0.0     25             16  \n",
       "13         2022-10-26                    0.0     36             12  \n",
       "11         2022-11-22                    0.0     34              4  "
      ]
     },
     "execution_count": 58,
     "metadata": {},
     "output_type": "execute_result"
    }
   ],
   "source": [
    "copy = participants[[\"NUM_Listener Since\", \"EXP_As a whole, was the tool... [helpful?]\", \"OBJ_Listener Since\", \"Counseling Background\", \"Chats\", \"People Helped\"]].copy()\n",
    "copy[copy[\"Counseling Background\"] < 0.5].sort_values(\"OBJ_Listener Since\")"
   ]
  },
  {
   "cell_type": "code",
   "execution_count": null,
   "metadata": {},
   "outputs": [],
   "source": []
  }
 ],
 "metadata": {
  "kernelspec": {
   "display_name": "MI",
   "language": "python",
   "name": "python3"
  },
  "language_info": {
   "codemirror_mode": {
    "name": "ipython",
    "version": 3
   },
   "file_extension": ".py",
   "mimetype": "text/x-python",
   "name": "python",
   "nbconvert_exporter": "python",
   "pygments_lexer": "ipython3",
   "version": "3.9.0"
  },
  "orig_nbformat": 4,
  "vscode": {
   "interpreter": {
    "hash": "4b75b81fdc2176fa2625b58f5b49ef10110eac4c44972d80176c62f06486cbde"
   }
  }
 },
 "nbformat": 4,
 "nbformat_minor": 2
}
